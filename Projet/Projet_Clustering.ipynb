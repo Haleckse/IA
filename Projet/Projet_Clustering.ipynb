{
 "cells": [
  {
   "cell_type": "markdown",
   "id": "ac7a4f95",
   "metadata": {},
   "source": [
    "# <p style=\"text-align:center;\">Clustering des joueurs de football</p>"
   ]
  },
  {
   "cell_type": "markdown",
   "id": "00e09121",
   "metadata": {},
   "source": [
    "## Import des bibliothèques requises"
   ]
  },
  {
   "cell_type": "code",
   "execution_count": null,
   "id": "6350d298",
   "metadata": {},
   "outputs": [
    {
     "ename": "ModuleNotFoundError",
     "evalue": "No module named 'pandas'",
     "output_type": "error",
     "traceback": [
      "\u001b[31m---------------------------------------------------------------------------\u001b[39m",
      "\u001b[31mModuleNotFoundError\u001b[39m                       Traceback (most recent call last)",
      "\u001b[36mCell\u001b[39m\u001b[36m \u001b[39m\u001b[32mIn[1]\u001b[39m\u001b[32m, line 1\u001b[39m\n\u001b[32m----> \u001b[39m\u001b[32m1\u001b[39m \u001b[38;5;28;01mimport\u001b[39;00m\u001b[38;5;250m \u001b[39m\u001b[34;01mpandas\u001b[39;00m\u001b[38;5;250m \u001b[39m\u001b[38;5;28;01mas\u001b[39;00m\u001b[38;5;250m \u001b[39m\u001b[34;01mpd\u001b[39;00m\n\u001b[32m      2\u001b[39m \u001b[38;5;28;01mimport\u001b[39;00m\u001b[38;5;250m \u001b[39m\u001b[34;01mnumpy\u001b[39;00m\u001b[38;5;250m \u001b[39m\u001b[38;5;28;01mas\u001b[39;00m\u001b[38;5;250m \u001b[39m\u001b[34;01mnp\u001b[39;00m\n\u001b[32m      3\u001b[39m \u001b[38;5;28;01mfrom\u001b[39;00m\u001b[38;5;250m \u001b[39m\u001b[34;01msklearn\u001b[39;00m\u001b[34;01m.\u001b[39;00m\u001b[34;01mpreprocessing\u001b[39;00m\u001b[38;5;250m \u001b[39m\u001b[38;5;28;01mimport\u001b[39;00m StandardScaler\n",
      "\u001b[31mModuleNotFoundError\u001b[39m: No module named 'pandas'"
     ]
    }
   ],
   "source": [
    "import sys\n",
    "print(sys.executable)\n",
    "\n",
    "import pandas as pd\n",
    "import numpy as np\n",
    "from sklearn.preprocessing import StandardScaler\n",
    "from sklearn.cluster import KMeans\n",
    "import matplotlib.pyplot as plt\n",
    "import seaborn as sns"
   ]
  },
  {
   "cell_type": "markdown",
   "id": "e5837e9a",
   "metadata": {},
   "source": [
    "## Création du Data Frame"
   ]
  },
  {
   "cell_type": "code",
   "execution_count": null,
   "id": "84627a1e",
   "metadata": {},
   "outputs": [],
   "source": [
    "df = pd.read_csv('Datas/X_Train_Data/train_away_player_statistics_df.csv')\n",
    "df.describe()"
   ]
  },
  {
   "cell_type": "markdown",
   "id": "57f5cc02",
   "metadata": {},
   "source": [
    "## Nettoyage des données"
   ]
  },
  {
   "cell_type": "code",
   "execution_count": null,
   "id": "5f751014",
   "metadata": {},
   "outputs": [],
   "source": [
    "\n",
    "df = df.select_dtypes(include=['number']) # On selectionne seulement les features numériques\n",
    "\n",
    "df = df.dropna(axis=1, thresh=len(df)*0.5) # On ignore les colonne comportant plus de 50 pourcent de NaN\n",
    "\n",
    "df = df.fillna(df.mean()) # On remplace toutes les valeurs NaN par la moyenne de la colonne \n",
    "\n"
   ]
  },
  {
   "cell_type": "markdown",
   "id": "94709721",
   "metadata": {},
   "source": [
    "## Standardisation des données."
   ]
  },
  {
   "cell_type": "code",
   "execution_count": null,
   "id": "9ef95caf",
   "metadata": {},
   "outputs": [],
   "source": [
    "\n",
    "scaler = StandardScaler() \n",
    "X_scaled = scaler.fit_transform(df) # On centre chaques features sur 0 avec écart-type 1. Elles sont donc centrées réduites."
   ]
  },
  {
   "cell_type": "markdown",
   "id": "40ead345",
   "metadata": {},
   "source": [
    "\n",
    "## Méthode du coude afin d'évaluer le nombre de clusters adéquat"
   ]
  },
  {
   "cell_type": "code",
   "execution_count": null,
   "id": "8949c0a0",
   "metadata": {},
   "outputs": [],
   "source": [
    "\n",
    "\n",
    "\n",
    "\n",
    "# Méthode du coude : déterminer le nombre optimal de clusters\n",
    "K_range = range(1, 15) # Nous allons choisir le nombre de clusters idéal entre 1 et 14\n",
    "inertia = [KMeans(n_clusters=k, random_state=54).fit(X_scaled).inertia_ for k in K_range] # On entraine le modèle Kmeans sur notre dataset standardisée et on relève l'inertie associée\n",
    "print(inertia)\n",
    "\n",
    "# On crée un modèle KMeans avec k clusters avec Kmeans\n",
    "# On l'entraîne sur les données normalisées avec .fit VOIR 1 DE L'ANNEXE\n",
    "# On ajoute l'inertie à la liste avec inertia\n",
    "\n",
    "\n",
    "# Affichage du graphique\n",
    "plt.figure(figsize=(10,6))\n",
    "plt.plot(K_range, inertia, 'rx--', markersize=8) #croix rouge\n",
    "plt.xlabel('Nombre de clusters (k)')\n",
    "plt.ylabel('Inertie')\n",
    "plt.title('Methode du Coude')\n",
    "plt.grid(True) # Pour avoir une grille\n",
    "plt.tight_layout() # Sert a tous recenter\n",
    "optimal_k = 4 # Afficher le choix que l'on a fait\n",
    "plt.axvline(x=optimal_k, color='r', linestyle='--', label=f'Nombre optimal de clusters: {optimal_k}')\n",
    "plt.show()\n",
    "\n",
    "\n"
   ]
  },
  {
   "cell_type": "markdown",
   "id": "6f95557f",
   "metadata": {},
   "source": [
    "## Clustering avec la méthode des K-Means"
   ]
  },
  {
   "cell_type": "code",
   "execution_count": null,
   "id": "a29b8ae0",
   "metadata": {},
   "outputs": [],
   "source": [
    "\n",
    "kmeans = KMeans(n_clusters=4, random_state=54)  # Crée une instance du modèle K-Means, avec comme paramètre 4 clusters et le générateur aléatoire 54\n",
    "clusters = kmeans.fit_predict(X_scaled)\n",
    "df['Cluster'] = clusters # Associe le cluster calculé par la méthode des K-Means à chaques lignes"
   ]
  },
  {
   "cell_type": "markdown",
   "id": "77cfbaac",
   "metadata": {},
   "source": [
    "## Utilisation de PCA (Principal Componment Analysis) afin de pouvoir projeter le clustering en 2D\n",
    "Ici nous utilisons le PCA afin de réduire notre clustering à deux features principales tout en concervant autant que possible la variance des données."
   ]
  },
  {
   "cell_type": "code",
   "execution_count": null,
   "id": "efcc1bf3",
   "metadata": {},
   "outputs": [],
   "source": [
    "from sklearn.decomposition import PCA  \n",
    "pca = PCA(n_components=2)\n",
    "print(pca)\n",
    "principal_components = pca.fit_transform(X_scaled)"
   ]
  },
  {
   "cell_type": "code",
   "execution_count": null,
   "id": "cea76a42",
   "metadata": {},
   "outputs": [],
   "source": [
    "plt.figure(figsize=(10, 6))\n",
    "sns.set_style(\"darkgrid\")  # Utilise un style avec grille\n",
    "sns.scatterplot(x=principal_components[:, 0], y=principal_components[:, 1], \n",
    "                hue=clusters, palette='Set1', s=60, alpha=0.7)\n",
    "\n",
    "plt.title('Clustering des Joueurs', fontsize=15)\n",
    "plt.xlabel('Composante Principale 1', fontsize=11)\n",
    "plt.ylabel('Composante Principale 2', fontsize=11)\n",
    "plt.legend(title=\"Cluster\", title_fontsize=15)\n",
    "plt.tight_layout()\n",
    "plt.show()\n"
   ]
  },
  {
   "cell_type": "code",
   "execution_count": null,
   "id": "c694068c",
   "metadata": {},
   "outputs": [],
   "source": [
    "# Regrouper par cluster et prendre la moyenne\n",
    "profiles = df.groupby('Cluster').mean()\n",
    "\n",
    "# Afficher les stats moyennes pour chaque cluster\n",
    "print(profiles)\n",
    "\n",
    "# VOIR 3 DE L'ANNEXE"
   ]
  },
  {
   "cell_type": "markdown",
   "id": "b26ab7a9",
   "metadata": {},
   "source": [
    "# ANNEXE"
   ]
  },
  {
   "cell_type": "code",
   "execution_count": null,
   "id": "3d8c4dcf",
   "metadata": {},
   "outputs": [],
   "source": [
    "#1.\n",
    "#inertia = []\n",
    "#for k in K_range:\n",
    "   # modele = KMeans(n_clusters=k, random_state=54) \n",
    "    #modele.fit(X_scaled)                           \n",
    "    #inertia.append(modele.inertia_)  \n",
    "\n",
    "#2.\n",
    "# ajout colonne \"Cluster\" \n",
    "df.describe() #voir ce que ça apporte\n",
    "\n",
    "\n",
    "#3.\n",
    "# cluster 0 = attaquant/aillier : drible reussi 31 , beaucoup de chance cree \n",
    "# cluster 1 = millieu defensif/ lateral : beaoup de duel gagner et moyen dans tout\n",
    "# cluster 2 = defenseur : carton jaune 43 , bonne passe beaucoup , degagemnet 35\n",
    "# cluster 3 = gardien : save 50 , grosse chace 0 , asist 0\n",
    "\n",
    "\n"
   ]
  },
  {
   "cell_type": "markdown",
   "id": "521158e1",
   "metadata": {},
   "source": [
    "## Interprétation"
   ]
  },
  {
   "cell_type": "code",
   "execution_count": null,
   "id": "5ce40031",
   "metadata": {},
   "outputs": [],
   "source": [
    "# Regrouper par cluster et prendre la moyenne\n",
    "profiles = df.groupby('Cluster').mean()\n",
    "\n",
    "# Afficher les stats moyennes pour chaque cluster\n",
    "print(profiles)\n",
    "\n",
    "# VOIR 3 DE L'ANNEXE"
   ]
  },
  {
   "cell_type": "code",
   "execution_count": null,
   "id": "a84ed1a5",
   "metadata": {},
   "outputs": [],
   "source": [
    "import plotly.express as px\n",
    "\n",
    "\n",
    "# Préparer le DataFrame\n",
    "df_plot = pd.DataFrame({\n",
    "    'PC1': principal_components[:, 0],\n",
    "    'PC2': principal_components[:, 1],\n",
    "    'Cluster': clusters\n",
    "})\n",
    "\n",
    "# Associer les clusters à des noms clairs\n",
    "df_plot['Profil'] = df_plot['Cluster'].map({\n",
    "    0: 'Attaquants',\n",
    "    1: 'Milieux',\n",
    "    2: 'Défenseurs',\n",
    "    3: 'Gardiens'\n",
    "})\n",
    "\n",
    "# Faire le scatter plot\n",
    "fig = px.scatter(\n",
    "    df_plot, x='PC1', y='PC2',\n",
    "    color='Profil',\n",
    "    color_discrete_sequence=px.colors.qualitative.Set1,\n",
    "    title='Clustering des Joueurs',\n",
    "    labels={'PC1': 'Composante Principale 1', 'PC2': 'Composante Principale 2'},\n",
    "    opacity=0.8\n",
    ")\n",
    "\n",
    "fig.update_layout(legend_title_text='Profil de Joueur')\n",
    "fig.show()\n",
    "\n",
    "\n",
    "\n"
   ]
  },
  {
   "cell_type": "markdown",
   "id": "e108a3d5",
   "metadata": {},
   "source": [
    "#### Notre objectif est de déduire quel cluster correspond à quel poste :\n",
    "\n",
    "Attaquant\n",
    "\n",
    "Milieu de terrain\n",
    "\n",
    "Défenseur\n",
    "\n",
    "Gardien de but"
   ]
  },
  {
   "cell_type": "markdown",
   "id": "cc18d860",
   "metadata": {},
   "source": [
    "<span style=\"color: red;\">Cluster 0</span>\n",
    "\n",
    "Passes réussies : Très faible \n",
    "\n",
    "Dégagements (Clearances) : 2.7 assez faible\n",
    "\n",
    "Arrêts dans la surface (Saves inside box) : 0.84 -> relativement \n",
    "\n",
    "Dribbles réussis : 6.7 -> correct\n",
    "\n",
    "Tirs cadrés : 5.39\n",
    "\n",
    "Duel total : 14.98\n",
    "\n",
    "Jaunes : 9.59\n",
    "\n",
    "C'est un profil plutot milieu defensif / lateral"
   ]
  },
  {
   "cell_type": "markdown",
   "id": "f06df94e",
   "metadata": {},
   "source": [
    "<span style=\"color: blue;\">Cluster 1</span>\n",
    "\n",
    "Passes réussies : 28 -> élevé\n",
    "\n",
    "Tacles : 26\n",
    "\n",
    "Duel total : 37\n",
    "\n",
    "Tirs cadrés : 36\n",
    "\n",
    "Dribbles : 29\n",
    "\n",
    "Jaunes : 32\n",
    "\n",
    "Très actif offensivement.\n",
    "C'est un attaquant / aillier"
   ]
  },
  {
   "cell_type": "markdown",
   "id": "27a323da",
   "metadata": {},
   "source": [
    "<span style=\"color: green;\">Cluster 2</span>\n",
    "\n",
    "Passes réussies : 22\n",
    "\n",
    "Arrêts dans la surface : 50 \n",
    "\n",
    "Tirs : très bas\n",
    "\n",
    "Dégagements : modérés\n",
    "\n",
    "Tacles : 1.4 -> très peu\n",
    "\n",
    "Jaunes : 12\n",
    "\n",
    "50 arrêts par match.\n",
    "Gardien de but."
   ]
  },
  {
   "cell_type": "markdown",
   "id": "6c7e4828",
   "metadata": {},
   "source": [
    "<span style=\"color: violet;\">Cluster 3</span>\n",
    "\n",
    "Passes réussies : 31\n",
    "\n",
    "Tacles : 29\n",
    "\n",
    "Duel total : 32\n",
    "\n",
    "Tirs : 19 (moins que Cluster 1)\n",
    "\n",
    "Très engagé défensivement.\n",
    "\n",
    "Cela ressemble clairement à un défenseur.\n"
   ]
  }
 ],
 "metadata": {
  "kernelspec": {
   "display_name": "Python 3",
   "language": "python",
   "name": "python3"
  },
  "language_info": {
   "codemirror_mode": {
    "name": "ipython",
    "version": 3
   },
   "file_extension": ".py",
   "mimetype": "text/x-python",
   "name": "python",
   "nbconvert_exporter": "python",
   "pygments_lexer": "ipython3",
   "version": "3.13.2"
  }
 },
 "nbformat": 4,
 "nbformat_minor": 5
}
