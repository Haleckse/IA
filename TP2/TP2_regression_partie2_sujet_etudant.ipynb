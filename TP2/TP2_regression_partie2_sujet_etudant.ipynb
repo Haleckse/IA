{
  "cells": [
    {
      "cell_type": "markdown",
      "metadata": {
        "id": "WSrkw5IqOeyq"
      },
      "source": [
        "# Quel film recommander ?\n",
        "La démarche basée sur les dénombrements est extrêmement séduisante par sa simplicité.\n",
        "Un simple comptage permet de produire les probabilités conditionnelles et d'en déduire les règles d'associations. Toutefois, elle n'est pas viable en situation réelle.\n",
        "Pas assez précise et statique, nous préférons la technique de la régression qui est généralement utilisée pour construire des modèles prédictifs.\n",
        "La régression est un ensemble de méthodes statistiques très utilisées pour analyser la relation d'une variable par rapport à une ou plusieurs autres variables.\n",
        "En apprentissage statistique, nous distinguons deux types de problème :\n",
        "-  les problèmes de régression,\n",
        "- les problèmes de classification.\n",
        "\n",
        "Ainsi, nous considérons que les problèmes de prédiction d'une variable quantitative sont des problèmes de régression tandis que les problèmes de prédiction d'une variable qualitative sont des problèmes de classification.\n",
        "Certaines méthodes, comme la régression logistique, sont à la fois des méthodes de régression au sens où il s'agit de prédire la probabilité d'appartenir à chacune des classes et des méthodes de classification.\n",
        "Les applications sont nombreuses, certains touchent directement à la vie quotidienne :\n",
        "- déterminer la viabilité d'un client sollicitant un crédit à partir de ses caractéristiques (exemple : âge, type d'emploi, niveau de revenu, autres crédits en cours, etc.).\n",
        "- quantifier le risque de survenue d'un sinistre pour une personne sollicitant un contrat d'assurance.\n",
        "- discerner les facteurs de risque de survenue d'une maladie cardio-vasculaire chez des patients (exemple : âge, sexe, tabac, alcool, regarder les matchs de l'équipe de France de football, etc.).\n",
        "- pour une enseigne de grande distribution, cibler les clients qui peuvent être intéressés par tel ou tel type de produit.\n",
        "\n",
        "\n",
        "Vous souhaitez prédire les notes de films d'un utilisateur quelconque, à partir de la base de données d'une plateforme publique (type Allociné), produisant une note moyenne, pour chaque film, à partir de toutes les notes données par l'ensemble des visiteurs de la plateforme publique.\n"
      ]
    },
    {
      "cell_type": "markdown",
      "metadata": {
        "id": "VjXwx26sO0lf"
      },
      "source": [
        "Commencez par charger votre jeu de données MyData : les données pour cet exercice, qui proviennent du site IMDb (http://www.imdb.com) sont les notes pour 422 films enregistrés. Le site IMDb conserve les notes moyennes de films, construites par tous les utilisateurs dans un tableau qui contient des informations sur le titre du film, son réalisateur, sa durée, son année de sortie, le genre, la note moyenne (celle du site IMDb), et quelques autres variables moins intéressantes.\n",
        "Le fichier **Mydata.csv** contient ces informations ainsi que la note donnée par l'utilisateur que nous voulons étudier.\n",
        "Nous souhaitons en effet, prédire les notes que donnera cet utilisateur à des films, en se basant sur les notes que les autres utilisateurs ont déjà donné.\n",
        "La variable **IMDb** correspond à la note moyenne du film.\n",
        "La variable **mine** correspond à la note du film de notre utilisateur."
      ]
    },
    {
      "cell_type": "code",
      "execution_count": 2,
      "metadata": {
        "id": "o9l4N6G4db5D"
      },
      "outputs": [],
      "source": [
        "import pandas as pd\n",
        "import numpy as np\n",
        "import matplotlib.pyplot as plt\n",
        "import pandas as pd\n",
        "import numpy as np\n",
        "import matplotlib.pyplot as plt\n",
        "import seaborn as sns\n",
        "from scipy import stats\n"
      ]
    },
    {
      "cell_type": "code",
      "execution_count": null,
      "metadata": {
        "id": "nfAPu1G5POV4"
      },
      "outputs": [],
      "source": [
        "# Load data"
      ]
    },
    {
      "cell_type": "code",
      "execution_count": 3,
      "metadata": {
        "colab": {
          "base_uri": "https://localhost:8080/"
        },
        "id": "4E3K4FHqd_Jm",
        "outputId": "ffeb0f63-41ef-4610-8dc4-1a3aac7b7dee"
      },
      "outputs": [
        {
          "name": "stdout",
          "output_type": "stream",
          "text": [
            "   position      const                   created  modified  description  \\\n",
            "1         1  tt2370248  Mon Feb 24 00:00:00 2014       NaN          NaN   \n",
            "2         2  tt1727388  Sat Feb 22 00:00:00 2014       NaN          NaN   \n",
            "3         3  tt0970179  Thu Feb 20 00:00:00 2014       NaN          NaN   \n",
            "4         4  tt1007029  Tue Feb 18 00:00:00 2014       NaN          NaN   \n",
            "5         5  tt0242888  Mon Feb 17 00:00:00 2014       NaN          NaN   \n",
            "\n",
            "                     Title    Title.type              Directors  You.rated  \\\n",
            "1            Short Term 12  Feature Film  Destin Daniel Cretton          7   \n",
            "2         The Way Way Back  Feature Film    Nat Faxon, Jim Rash          6   \n",
            "3                     Hugo  Feature Film        Martin Scorsese          8   \n",
            "4            The Iron Lady  Feature Film         Phyllida Lloyd          6   \n",
            "5  The Sleeping Dictionary  Feature Film             Guy Jenkin          6   \n",
            "\n",
            "   IMDb.Rating  ...  Steven Soderbergh    Woody Allen   Akira Kurosawa    \\\n",
            "1          8.1  ...                    0              0                0   \n",
            "2          7.5  ...                    0              0                0   \n",
            "3          7.6  ...                    0              0                0   \n",
            "4          6.4  ...                    0              0                0   \n",
            "5          6.6  ...                    0              0                0   \n",
            "\n",
            "   Martin Scorsese   Darren Aronofsky   David Cronenberg    Guy Ritchie    \\\n",
            "1                  0                  0                  0              0   \n",
            "2                  0                  0                  0              0   \n",
            "3                  1                  0                  0              0   \n",
            "4                  0                  0                  0              0   \n",
            "5                  0                  0                  0              0   \n",
            "\n",
            "   Lars Von Trier   Pier Paolo Pasolini    Steven Spielberg    \n",
            "1                 0                     0                   0  \n",
            "2                 0                     0                   0  \n",
            "3                 0                     0                   0  \n",
            "4                 0                     0                   0  \n",
            "5                 0                     0                   0  \n",
            "\n",
            "[5 rows x 52 columns]\n"
          ]
        }
      ],
      "source": [
        "Data = pd.read_csv('MyData.csv')\n",
        "df = pd.DataFrame(data = Data)\n",
        "print(df.head())"
      ]
    },
    {
      "cell_type": "code",
      "execution_count": 4,
      "metadata": {
        "id": "Cabnbe9BeWpr"
      },
      "outputs": [],
      "source": [
        "pd.set_option('display.max_columns', None)"
      ]
    },
    {
      "cell_type": "code",
      "execution_count": 5,
      "metadata": {
        "colab": {
          "base_uri": "https://localhost:8080/"
        },
        "id": "d6ynGLJZeYN1",
        "outputId": "ed58cf54-445e-4039-9533-074135cc9b40"
      },
      "outputs": [
        {
          "name": "stdout",
          "output_type": "stream",
          "text": [
            "   position      const                   created  modified  description  \\\n",
            "1         1  tt2370248  Mon Feb 24 00:00:00 2014       NaN          NaN   \n",
            "2         2  tt1727388  Sat Feb 22 00:00:00 2014       NaN          NaN   \n",
            "3         3  tt0970179  Thu Feb 20 00:00:00 2014       NaN          NaN   \n",
            "4         4  tt1007029  Tue Feb 18 00:00:00 2014       NaN          NaN   \n",
            "5         5  tt0242888  Mon Feb 17 00:00:00 2014       NaN          NaN   \n",
            "\n",
            "                     Title    Title.type              Directors  You.rated  \\\n",
            "1            Short Term 12  Feature Film  Destin Daniel Cretton          7   \n",
            "2         The Way Way Back  Feature Film    Nat Faxon, Jim Rash          6   \n",
            "3                     Hugo  Feature Film        Martin Scorsese          8   \n",
            "4            The Iron Lady  Feature Film         Phyllida Lloyd          6   \n",
            "5  The Sleeping Dictionary  Feature Film             Guy Jenkin          6   \n",
            "\n",
            "   IMDb.Rating  Runtime..mins.  Year                             Genres  \\\n",
            "1          8.1            96.0  2013                              drama   \n",
            "2          7.5           103.0  2013                      comedy, drama   \n",
            "3          7.6           126.0  2011  adventure, drama, family, mystery   \n",
            "4          6.4           105.0  2011          biography, drama, history   \n",
            "5          6.6           109.0  2003                     drama, romance   \n",
            "\n",
            "   Num..Votes Release.Date..month.day.year.  \\\n",
            "1       11359                    2013-03-10   \n",
            "2       59402                    2013-01-21   \n",
            "3      187731                    2011-10-10   \n",
            "4       58474                    2011-12-26   \n",
            "5        5915                    2003-01-31   \n",
            "\n",
            "                                    URL  mine  imdb   year      time   votes  \\\n",
            "1  http://www.imdb.com/title/tt2370248/     7   8.1  2010s  4.564348   11359   \n",
            "2  http://www.imdb.com/title/tt1727388/     6   7.5  2010s  4.634729   59402   \n",
            "3  http://www.imdb.com/title/tt0970179/     8   7.6  2010s  4.836282  187731   \n",
            "4  http://www.imdb.com/title/tt1007029/     6   6.4  2010s  4.653960   58474   \n",
            "5  http://www.imdb.com/title/tt0242888/     6   6.6  2000s  4.691348    5915   \n",
            "\n",
            "   year.c  Genre.N    Genre.1  Genre.2  Genre.3  Genre.4 Genre.5  drama    \\\n",
            "1       1        1      drama        0        0        0       0        1   \n",
            "2       1        2     comedy    drama        0        0       0        1   \n",
            "3       3        4  adventure    drama   family  mystery       0        1   \n",
            "4       3        3  biography    drama  history        0       0        1   \n",
            "5      11        2      drama  romance        0        0       0        1   \n",
            "\n",
            "   comedy    adventure    biography    crime    sci_fi    action    romance    \\\n",
            "1         0            0            0        0         0         0          0   \n",
            "2         1            0            0        0         0         0          0   \n",
            "3         0            1            0        0         0         0          0   \n",
            "4         0            0            1        0         0         0          0   \n",
            "5         0            0            0        0         0         0          1   \n",
            "\n",
            "   mystery    thriller    new.genre short.genre  David Fincher    \\\n",
            "1          0           0    serious       drama                0   \n",
            "2          0           0      light       drama                0   \n",
            "3          1           0  adventure   adventure                0   \n",
            "4          0           0    serious   biography                0   \n",
            "5          0           0      light       drama                0   \n",
            "\n",
            "   Stanley Kubrick    Steven Soderbergh    Woody Allen    Akira Kurosawa    \\\n",
            "1                  0                    0              0                 0   \n",
            "2                  0                    0              0                 0   \n",
            "3                  0                    0              0                 0   \n",
            "4                  0                    0              0                 0   \n",
            "5                  0                    0              0                 0   \n",
            "\n",
            "   Martin Scorsese    Darren Aronofsky    David Cronenberg    Guy Ritchie    \\\n",
            "1                  0                   0                   0              0   \n",
            "2                  0                   0                   0              0   \n",
            "3                  1                   0                   0              0   \n",
            "4                  0                   0                   0              0   \n",
            "5                  0                   0                   0              0   \n",
            "\n",
            "   Lars Von Trier    Pier Paolo Pasolini    Steven Spielberg    \n",
            "1                 0                      0                   0  \n",
            "2                 0                      0                   0  \n",
            "3                 0                      0                   0  \n",
            "4                 0                      0                   0  \n",
            "5                 0                      0                   0  \n"
          ]
        }
      ],
      "source": [
        "print(df.head())"
      ]
    },
    {
      "cell_type": "markdown",
      "metadata": {
        "id": "SEEG3KbGPJK7"
      },
      "source": [
        "Afficher la distribution des notes de notre utilisateur"
      ]
    },
    {
      "cell_type": "code",
      "execution_count": 12,
      "metadata": {
        "id": "cIS5JBdREWXn"
      },
      "outputs": [
        {
          "data": {
            "text/plain": [
              "<Axes: ylabel='Frequency'>"
            ]
          },
          "execution_count": 12,
          "metadata": {},
          "output_type": "execute_result"
        },
        {
          "data": {
            "image/png": "[encoded data removed]",
            "text/plain": [
              "<Figure size 640x480 with 1 Axes>"
            ]
          },
          "metadata": {},
          "output_type": "display_data"
        }
      ],
      "source": [
        "# Plot density of 'mine'\n",
        "users_rate = df[\"mine\"]\n",
        "users_rate.plot.hist()"
      ]
    },
    {
      "cell_type": "markdown",
      "metadata": {
        "id": "COC1P0lfPWkw"
      },
      "source": [
        "Afficher la distribution des notes des utilisateurs de IMDb (imdb)"
      ]
    },
    {
      "cell_type": "code",
      "execution_count": 20,
      "metadata": {
        "id": "Kinz4AuLPhm8"
      },
      "outputs": [
        {
          "name": "stdout",
          "output_type": "stream",
          "text": [
            "moyenne user :  1.4205218304654375\n",
            "moyenne IMDb :  0.6915092863019582\n"
          ]
        },
        {
          "data": {
            "image/png": "[encoded data removed]",
            "text/plain": [
              "<Figure size 640x480 with 1 Axes>"
            ]
          },
          "metadata": {},
          "output_type": "display_data"
        },
        {
          "data": {
            "image/png": "[encoded data removed]",
            "text/plain": [
              "<Figure size 640x480 with 1 Axes>"
            ]
          },
          "metadata": {},
          "output_type": "display_data"
        }
      ],
      "source": [
        "imdb_rates = df[ [\"Title\", \"imdb\"] ]\n",
        "imdb_rates.plot.hist()\n",
        "\n",
        "mine = df[ [\"Title\", \"mine\"] ]\n",
        "mine.plot.hist()\n",
        "\n",
        "print(\"moyenne user : \", df[\"mine\"].std())\n",
        "print(\"moyenne IMDb : \", df[\"imdb\"].std())\n",
        "\n",
        "\n"
      ]
    },
    {
      "cell_type": "markdown",
      "metadata": {},
      "source": []
    },
    {
      "cell_type": "markdown",
      "metadata": {
        "id": "o-o7s8qGPiJf"
      },
      "source": [
        "- Où se situe la moyenne sur chacune des deux courbes?\n",
        "- Estimez visuellement l'écart-type.\n",
        "- Donnez la variance des notes de notre utilisateur et de celles de IMDb.\n",
        "- Que pouvez-vous dire sur les notes de notre utilisateur ?\n",
        "- Que pouvez-vous dire sur les notes des utilisateurs d'IMDb ?\n",
        "- Essayez de justifier la différence entre ces deux courbes."
      ]
    },
    {
      "cell_type": "markdown",
      "metadata": {
        "id": "djUzqPsAPwPL"
      },
      "source": [
        "moyenne user :  6.637440758293839\n",
        "moyenne IMDb :  7.512322274881516\n",
        "\n",
        "ecart-type :  1.4205218304654375\n",
        "ecart-type IMDb :  0.6915092863019582\n",
        "\n",
        "var user :  2.0178822708288773\n",
        "var IMDb :  0.4781850930418436\n",
        "\n",
        "\n"
      ]
    },
    {
      "cell_type": "markdown",
      "metadata": {
        "id": "2Z0PiuujPvi6"
      },
      "source": [
        "La fonction pairplot() de sns produit une matrice de nuages de points et attend en entrée un objet de type matrice ou de type *dataframe*.\n",
        "\n",
        "Afficher la fonction pairplot() sur le sous ensemble de données contenant les colonnes imdb et mine\n"
      ]
    },
    {
      "cell_type": "code",
      "execution_count": 19,
      "metadata": {},
      "outputs": [
        {
          "data": {
            "text/plain": [
              "<seaborn.axisgrid.PairGrid at 0x1b07e6e3520>"
            ]
          },
          "execution_count": 19,
          "metadata": {},
          "output_type": "execute_result"
        },
        {
          "data": {
            "image/png": "[encoded data removed]",
            "text/plain": [
              "<Figure size 500x500 with 6 Axes>"
            ]
          },
          "metadata": {},
          "output_type": "display_data"
        }
      ],
      "source": [
        "sns.pairplot(df[ ['mine', 'imdb'] ])"
      ]
    },
    {
      "cell_type": "markdown",
      "metadata": {
        "id": "40VGQENqg-m5"
      },
      "source": [
        "En probabilités et en statistique, étudier la corrélation linéaire entre deux ou plusieurs variables aléatoires ou variables statistiques (de type quantitatif), c’est étudier l'intensité de la liaison linéaire qui peut exister entre ces variables.\n",
        "Nous pouvons par exemple avoir une relation affine entre une variable quantitative $X$ et une variable quantitative $Y$ (de type $Y= a+b*X$), qui est une régression linéaire simple entre ces deux variables. La mesure de la corrélation linéaire entre ces deux variables se fait alors par le calcul du coefficient de corrélation linéaire, noté généralement $r(X,Y)$.\n",
        "\n",
        "Trouver le signe de ces coefficient en observant les graphiques sorties **pairplot()**"
      ]
    },
    {
      "cell_type": "markdown",
      "metadata": {
        "id": "KsOnnaurQTbV"
      },
      "source": [
        "Nous décidons d'afficher la relation entre les notes des utilisateurs d'IMDb et celles de notre utilisateur."
      ]
    },
    {
      "cell_type": "markdown",
      "metadata": {
        "id": "LkSa0OGnQT03"
      },
      "source": [
        "Construire une régression de type OLS qui prend en entrée les notes des utilisateurs de IMDb et en sortie celles de notre utilisateur."
      ]
    },
    {
      "cell_type": "code",
      "execution_count": 27,
      "metadata": {
        "id": "dz2i-_l-QlTn"
      },
      "outputs": [
        {
          "name": "stdout",
          "output_type": "stream",
          "text": [
            "Intercept: -0.638647703286864\n",
            "Coefficient IMDb: 0.9685538233509107\n"
          ]
        },
        {
          "data": {
            "text/plain": [
              "<function matplotlib.pyplot.show(close=None, block=None)>"
            ]
          },
          "execution_count": 27,
          "metadata": {},
          "output_type": "execute_result"
        },
        {
          "data": {
            "image/png": "[encoded data removed]",
            "text/plain": [
              "<Figure size 640x480 with 1 Axes>"
            ]
          },
          "metadata": {},
          "output_type": "display_data"
        }
      ],
      "source": [
        "from sklearn.linear_model import LinearRegression\n",
        "X = df[[\"imdb\"]] \n",
        "Y = df[\"mine\"] \n",
        "\n",
        "model = LinearRegression()\n",
        "model.fit(X, Y)\n",
        "\n",
        "print(f\"Intercept: {model.intercept_}\")\n",
        "print(f\"Coefficient IMDb: {model.coef_[0]}\")\n",
        "\n",
        "df[\"Predicted_rating\"] = model.predict(X)\n",
        "plt.xlabel = \"IMDb rates\"\n",
        "plt.ylabel = \"users rates\"\n",
        "sns.scatterplot(x=df[\"imdb\"], y=df[\"mine\"], label=\"Données réelles\", color=\"blue\")\n",
        "sns.lineplot(x=df[\"imdb\"], y=df[\"Predicted_rating\"], color=\"red\", label=\"Régression OLS\")\n",
        "plt.legend()\n",
        "plt.show"
      ]
    },
    {
      "cell_type": "markdown",
      "metadata": {
        "id": "yJGYyJQoQkcB"
      },
      "source": [
        "Les variables mine et imdb sont-elles corrélées linéairement?\n",
        "Sur quel pourcentage du dataset avez-vous entraîné votre modèle ?\n",
        "Quelle a été l'erreur maximale du modèle ?\n",
        "Commentez la qualité du modèle et le résultat du test de Fisher.\n",
        "Commentez à la p-valeur associée à votre variable **mine**"
      ]
    },
    {
      "cell_type": "markdown",
      "metadata": {
        "id": "6PCppx5HkdM2"
      },
      "source": [
        "Les variables mine et imdb sont corrélées positivement (coef a positif) ?\n",
        "Sur quel pourcentage du dataset avez-vous entraîné votre modèle ?100%\n",
        "Quelle a été l'erreur maximale du modèle ?\n",
        "Commentez la qualité du modèle et le résultat du test de Fisher. Rejet de l'hypothèse de tous les coefs nuls\n",
        "La p-valeur associée à votre variable **mine** indique que l'hypothèse d'un coef nul est rejetée"
      ]
    },
    {
      "cell_type": "markdown",
      "metadata": {
        "id": "yfMklxR-k8p4"
      },
      "source": [
        "Afficher les points 'imdb' en fonction de 'mine' ainsi que la droite de régression."
      ]
    },
    {
      "cell_type": "code",
      "execution_count": 28,
      "metadata": {
        "id": "5lBBvNm6lIF9"
      },
      "outputs": [
        {
          "ename": "ValueError",
          "evalue": "Expected a 2-dimensional container but got <class 'pandas.core.series.Series'> instead. Pass a DataFrame containing a single row (i.e. single sample) or a single column (i.e. single feature) instead.",
          "output_type": "error",
          "traceback": [
            "\u001b[1;31m---------------------------------------------------------------------------\u001b[0m",
            "\u001b[1;31mValueError\u001b[0m                                Traceback (most recent call last)",
            "\u001b[1;32mz:\\IA\\TP2\\TP2_regression_partie2_sujet_etudant.ipynb Cell 24\u001b[0m line \u001b[0;36m6\n\u001b[0;32m      <a href='vscode-notebook-cell:/z%3A/IA/TP2/TP2_regression_partie2_sujet_etudant.ipynb#X31sZmlsZQ%3D%3D?line=2'>3</a>\u001b[0m X \u001b[39m=\u001b[39m df[\u001b[39m\"\u001b[39m\u001b[39mmine\u001b[39m\u001b[39m\"\u001b[39m] \n\u001b[0;32m      <a href='vscode-notebook-cell:/z%3A/IA/TP2/TP2_regression_partie2_sujet_etudant.ipynb#X31sZmlsZQ%3D%3D?line=4'>5</a>\u001b[0m model \u001b[39m=\u001b[39m LinearRegression()\n\u001b[1;32m----> <a href='vscode-notebook-cell:/z%3A/IA/TP2/TP2_regression_partie2_sujet_etudant.ipynb#X31sZmlsZQ%3D%3D?line=5'>6</a>\u001b[0m model\u001b[39m.\u001b[39;49mfit(X, Y)\n\u001b[0;32m      <a href='vscode-notebook-cell:/z%3A/IA/TP2/TP2_regression_partie2_sujet_etudant.ipynb#X31sZmlsZQ%3D%3D?line=7'>8</a>\u001b[0m \u001b[39mprint\u001b[39m(\u001b[39mf\u001b[39m\u001b[39m\"\u001b[39m\u001b[39mIntercept: \u001b[39m\u001b[39m{\u001b[39;00mmodel\u001b[39m.\u001b[39mintercept_\u001b[39m}\u001b[39;00m\u001b[39m\"\u001b[39m)\n\u001b[0;32m      <a href='vscode-notebook-cell:/z%3A/IA/TP2/TP2_regression_partie2_sujet_etudant.ipynb#X31sZmlsZQ%3D%3D?line=8'>9</a>\u001b[0m \u001b[39mprint\u001b[39m(\u001b[39mf\u001b[39m\u001b[39m\"\u001b[39m\u001b[39mCoefficient IMDb: \u001b[39m\u001b[39m{\u001b[39;00mmodel\u001b[39m.\u001b[39mcoef_[\u001b[39m0\u001b[39m]\u001b[39m}\u001b[39;00m\u001b[39m\"\u001b[39m)\n",
            "File \u001b[1;32mc:\\Program Files\\Python310\\lib\\site-packages\\sklearn\\base.py:1389\u001b[0m, in \u001b[0;36m_fit_context.<locals>.decorator.<locals>.wrapper\u001b[1;34m(estimator, *args, **kwargs)\u001b[0m\n\u001b[0;32m   1382\u001b[0m     estimator\u001b[39m.\u001b[39m_validate_params()\n\u001b[0;32m   1384\u001b[0m \u001b[39mwith\u001b[39;00m config_context(\n\u001b[0;32m   1385\u001b[0m     skip_parameter_validation\u001b[39m=\u001b[39m(\n\u001b[0;32m   1386\u001b[0m         prefer_skip_nested_validation \u001b[39mor\u001b[39;00m global_skip_validation\n\u001b[0;32m   1387\u001b[0m     )\n\u001b[0;32m   1388\u001b[0m ):\n\u001b[1;32m-> 1389\u001b[0m     \u001b[39mreturn\u001b[39;00m fit_method(estimator, \u001b[39m*\u001b[39margs, \u001b[39m*\u001b[39m\u001b[39m*\u001b[39mkwargs)\n",
            "File \u001b[1;32mc:\\Program Files\\Python310\\lib\\site-packages\\sklearn\\linear_model\\_base.py:601\u001b[0m, in \u001b[0;36mLinearRegression.fit\u001b[1;34m(self, X, y, sample_weight)\u001b[0m\n\u001b[0;32m    597\u001b[0m n_jobs_ \u001b[39m=\u001b[39m \u001b[39mself\u001b[39m\u001b[39m.\u001b[39mn_jobs\n\u001b[0;32m    599\u001b[0m accept_sparse \u001b[39m=\u001b[39m \u001b[39mFalse\u001b[39;00m \u001b[39mif\u001b[39;00m \u001b[39mself\u001b[39m\u001b[39m.\u001b[39mpositive \u001b[39melse\u001b[39;00m [\u001b[39m\"\u001b[39m\u001b[39mcsr\u001b[39m\u001b[39m\"\u001b[39m, \u001b[39m\"\u001b[39m\u001b[39mcsc\u001b[39m\u001b[39m\"\u001b[39m, \u001b[39m\"\u001b[39m\u001b[39mcoo\u001b[39m\u001b[39m\"\u001b[39m]\n\u001b[1;32m--> 601\u001b[0m X, y \u001b[39m=\u001b[39m validate_data(\n\u001b[0;32m    602\u001b[0m     \u001b[39mself\u001b[39;49m,\n\u001b[0;32m    603\u001b[0m     X,\n\u001b[0;32m    604\u001b[0m     y,\n\u001b[0;32m    605\u001b[0m     accept_sparse\u001b[39m=\u001b[39;49maccept_sparse,\n\u001b[0;32m    606\u001b[0m     y_numeric\u001b[39m=\u001b[39;49m\u001b[39mTrue\u001b[39;49;00m,\n\u001b[0;32m    607\u001b[0m     multi_output\u001b[39m=\u001b[39;49m\u001b[39mTrue\u001b[39;49;00m,\n\u001b[0;32m    608\u001b[0m     force_writeable\u001b[39m=\u001b[39;49m\u001b[39mTrue\u001b[39;49;00m,\n\u001b[0;32m    609\u001b[0m )\n\u001b[0;32m    611\u001b[0m has_sw \u001b[39m=\u001b[39m sample_weight \u001b[39mis\u001b[39;00m \u001b[39mnot\u001b[39;00m \u001b[39mNone\u001b[39;00m\n\u001b[0;32m    612\u001b[0m \u001b[39mif\u001b[39;00m has_sw:\n",
            "File \u001b[1;32mc:\\Program Files\\Python310\\lib\\site-packages\\sklearn\\utils\\validation.py:2961\u001b[0m, in \u001b[0;36mvalidate_data\u001b[1;34m(_estimator, X, y, reset, validate_separately, skip_check_array, **check_params)\u001b[0m\n\u001b[0;32m   2959\u001b[0m         y \u001b[39m=\u001b[39m check_array(y, input_name\u001b[39m=\u001b[39m\u001b[39m\"\u001b[39m\u001b[39my\u001b[39m\u001b[39m\"\u001b[39m, \u001b[39m*\u001b[39m\u001b[39m*\u001b[39mcheck_y_params)\n\u001b[0;32m   2960\u001b[0m     \u001b[39melse\u001b[39;00m:\n\u001b[1;32m-> 2961\u001b[0m         X, y \u001b[39m=\u001b[39m check_X_y(X, y, \u001b[39m*\u001b[39m\u001b[39m*\u001b[39mcheck_params)\n\u001b[0;32m   2962\u001b[0m     out \u001b[39m=\u001b[39m X, y\n\u001b[0;32m   2964\u001b[0m \u001b[39mif\u001b[39;00m \u001b[39mnot\u001b[39;00m no_val_X \u001b[39mand\u001b[39;00m check_params\u001b[39m.\u001b[39mget(\u001b[39m\"\u001b[39m\u001b[39mensure_2d\u001b[39m\u001b[39m\"\u001b[39m, \u001b[39mTrue\u001b[39;00m):\n",
            "File \u001b[1;32mc:\\Program Files\\Python310\\lib\\site-packages\\sklearn\\utils\\validation.py:1370\u001b[0m, in \u001b[0;36mcheck_X_y\u001b[1;34m(X, y, accept_sparse, accept_large_sparse, dtype, order, copy, force_writeable, force_all_finite, ensure_all_finite, ensure_2d, allow_nd, multi_output, ensure_min_samples, ensure_min_features, y_numeric, estimator)\u001b[0m\n\u001b[0;32m   1364\u001b[0m     \u001b[39mraise\u001b[39;00m \u001b[39mValueError\u001b[39;00m(\n\u001b[0;32m   1365\u001b[0m         \u001b[39mf\u001b[39m\u001b[39m\"\u001b[39m\u001b[39m{\u001b[39;00mestimator_name\u001b[39m}\u001b[39;00m\u001b[39m requires y to be passed, but the target y is None\u001b[39m\u001b[39m\"\u001b[39m\n\u001b[0;32m   1366\u001b[0m     )\n\u001b[0;32m   1368\u001b[0m ensure_all_finite \u001b[39m=\u001b[39m _deprecate_force_all_finite(force_all_finite, ensure_all_finite)\n\u001b[1;32m-> 1370\u001b[0m X \u001b[39m=\u001b[39m check_array(\n\u001b[0;32m   1371\u001b[0m     X,\n\u001b[0;32m   1372\u001b[0m     accept_sparse\u001b[39m=\u001b[39;49maccept_sparse,\n\u001b[0;32m   1373\u001b[0m     accept_large_sparse\u001b[39m=\u001b[39;49maccept_large_sparse,\n\u001b[0;32m   1374\u001b[0m     dtype\u001b[39m=\u001b[39;49mdtype,\n\u001b[0;32m   1375\u001b[0m     order\u001b[39m=\u001b[39;49morder,\n\u001b[0;32m   1376\u001b[0m     copy\u001b[39m=\u001b[39;49mcopy,\n\u001b[0;32m   1377\u001b[0m     force_writeable\u001b[39m=\u001b[39;49mforce_writeable,\n\u001b[0;32m   1378\u001b[0m     ensure_all_finite\u001b[39m=\u001b[39;49mensure_all_finite,\n\u001b[0;32m   1379\u001b[0m     ensure_2d\u001b[39m=\u001b[39;49mensure_2d,\n\u001b[0;32m   1380\u001b[0m     allow_nd\u001b[39m=\u001b[39;49mallow_nd,\n\u001b[0;32m   1381\u001b[0m     ensure_min_samples\u001b[39m=\u001b[39;49mensure_min_samples,\n\u001b[0;32m   1382\u001b[0m     ensure_min_features\u001b[39m=\u001b[39;49mensure_min_features,\n\u001b[0;32m   1383\u001b[0m     estimator\u001b[39m=\u001b[39;49mestimator,\n\u001b[0;32m   1384\u001b[0m     input_name\u001b[39m=\u001b[39;49m\u001b[39m\"\u001b[39;49m\u001b[39mX\u001b[39;49m\u001b[39m\"\u001b[39;49m,\n\u001b[0;32m   1385\u001b[0m )\n\u001b[0;32m   1387\u001b[0m y \u001b[39m=\u001b[39m _check_y(y, multi_output\u001b[39m=\u001b[39mmulti_output, y_numeric\u001b[39m=\u001b[39my_numeric, estimator\u001b[39m=\u001b[39mestimator)\n\u001b[0;32m   1389\u001b[0m check_consistent_length(X, y)\n",
            "File \u001b[1;32mc:\\Program Files\\Python310\\lib\\site-packages\\sklearn\\utils\\validation.py:1093\u001b[0m, in \u001b[0;36mcheck_array\u001b[1;34m(array, accept_sparse, accept_large_sparse, dtype, order, copy, force_writeable, force_all_finite, ensure_all_finite, ensure_non_negative, ensure_2d, allow_nd, ensure_min_samples, ensure_min_features, estimator, input_name)\u001b[0m\n\u001b[0;32m   1086\u001b[0m         \u001b[39melse\u001b[39;00m:\n\u001b[0;32m   1087\u001b[0m             msg \u001b[39m=\u001b[39m (\n\u001b[0;32m   1088\u001b[0m                 \u001b[39mf\u001b[39m\u001b[39m\"\u001b[39m\u001b[39mExpected 2D array, got 1D array instead:\u001b[39m\u001b[39m\\n\u001b[39;00m\u001b[39marray=\u001b[39m\u001b[39m{\u001b[39;00marray\u001b[39m}\u001b[39;00m\u001b[39m.\u001b[39m\u001b[39m\\n\u001b[39;00m\u001b[39m\"\u001b[39m\n\u001b[0;32m   1089\u001b[0m                 \u001b[39m\"\u001b[39m\u001b[39mReshape your data either using array.reshape(-1, 1) if \u001b[39m\u001b[39m\"\u001b[39m\n\u001b[0;32m   1090\u001b[0m                 \u001b[39m\"\u001b[39m\u001b[39myour data has a single feature or array.reshape(1, -1) \u001b[39m\u001b[39m\"\u001b[39m\n\u001b[0;32m   1091\u001b[0m                 \u001b[39m\"\u001b[39m\u001b[39mif it contains a single sample.\u001b[39m\u001b[39m\"\u001b[39m\n\u001b[0;32m   1092\u001b[0m             )\n\u001b[1;32m-> 1093\u001b[0m         \u001b[39mraise\u001b[39;00m \u001b[39mValueError\u001b[39;00m(msg)\n\u001b[0;32m   1095\u001b[0m \u001b[39mif\u001b[39;00m dtype_numeric \u001b[39mand\u001b[39;00m \u001b[39mhasattr\u001b[39m(array\u001b[39m.\u001b[39mdtype, \u001b[39m\"\u001b[39m\u001b[39mkind\u001b[39m\u001b[39m\"\u001b[39m) \u001b[39mand\u001b[39;00m array\u001b[39m.\u001b[39mdtype\u001b[39m.\u001b[39mkind \u001b[39min\u001b[39;00m \u001b[39m\"\u001b[39m\u001b[39mUSV\u001b[39m\u001b[39m\"\u001b[39m:\n\u001b[0;32m   1096\u001b[0m     \u001b[39mraise\u001b[39;00m \u001b[39mValueError\u001b[39;00m(\n\u001b[0;32m   1097\u001b[0m         \u001b[39m\"\u001b[39m\u001b[39mdtype=\u001b[39m\u001b[39m'\u001b[39m\u001b[39mnumeric\u001b[39m\u001b[39m'\u001b[39m\u001b[39m is not compatible with arrays of bytes/strings.\u001b[39m\u001b[39m\"\u001b[39m\n\u001b[0;32m   1098\u001b[0m         \u001b[39m\"\u001b[39m\u001b[39mConvert your data to numeric values explicitly instead.\u001b[39m\u001b[39m\"\u001b[39m\n\u001b[0;32m   1099\u001b[0m     )\n",
            "\u001b[1;31mValueError\u001b[0m: Expected a 2-dimensional container but got <class 'pandas.core.series.Series'> instead. Pass a DataFrame containing a single row (i.e. single sample) or a single column (i.e. single feature) instead."
          ]
        }
      ],
      "source": [
        "from sklearn.linear_model import LinearRegression\n",
        "X = df[\"mine\"] \n",
        "Y = df[[\"imdb\"]] \n",
        "\n",
        "\n",
        "model = LinearRegression()\n",
        "model.fit(X, Y)\n",
        "\n",
        "print(f\"Intercept: {model.intercept_}\")\n",
        "print(f\"Coefficient IMDb: {model.coef_[0]}\")\n",
        "\n",
        "df[\"Predicted_rating\"] = model.predict(X)\n",
        "plt.xlabel = \"IMDb rates\"\n",
        "plt.ylabel = \"users rates\"\n",
        "sns.scatterplot(x=df[\"imdb\"], y=df[\"mine\"], label=\"Données réelles\", color=\"blue\")\n",
        "sns.lineplot(x=df[\"imdb\"], y=df[\"Predicted_rating\"], color=\"red\", label=\"Régression OLS\")\n",
        "plt.legend()\n",
        "plt.show"
      ]
    },
    {
      "cell_type": "markdown",
      "metadata": {
        "id": "8bxMsbxGQvG_"
      },
      "source": [
        "On décide maintenant de modifier le graphique représentant la droite de régression et les observations mais en utilisant la couleur pour représenter différent genres"
      ]
    },
    {
      "cell_type": "markdown",
      "metadata": {
        "id": "dGE3QAYGREz2"
      },
      "source": [
        "Sur quel genre de films pouvez-vous dire que l'utilisateur est difficile ?"
      ]
    },
    {
      "cell_type": "markdown",
      "metadata": {
        "id": "5f7nCuBInNaZ"
      },
      "source": []
    },
    {
      "cell_type": "markdown",
      "metadata": {
        "id": "Ii48g-bbnOe8"
      },
      "source": [
        "Drama comédie et un peu aventure (on regarde les notes hautes pour imdb et basses pour l'utilisateur)"
      ]
    },
    {
      "cell_type": "markdown",
      "metadata": {
        "id": "J_AnxvdYTwf7"
      },
      "source": [
        "## Erreur quadratique moyenne"
      ]
    },
    {
      "cell_type": "markdown",
      "metadata": {
        "id": "FlxuXrhOT5sB"
      },
      "source": [
        "L'erreur quadratique moyenne notée MSE (Mean Square Error) est très utile pour comparer plusieurs modèles"
      ]
    },
    {
      "cell_type": "markdown",
      "metadata": {
        "id": "N9U7yqJoUG_K"
      },
      "source": [
        "Donner la valeur de l’erreur quadratique moyenne de votre modèle"
      ]
    },
    {
      "cell_type": "code",
      "execution_count": null,
      "metadata": {
        "id": "ZUHdhzUZUYpP"
      },
      "outputs": [],
      "source": []
    },
    {
      "cell_type": "markdown",
      "metadata": {
        "id": "dZAsmEpXUYLp"
      },
      "source": [
        "Construire une fonction donnant un intervalle de confiance pour les valeurs réalisées $Y$ pour une valeur de $X$ donnée."
      ]
    },
    {
      "cell_type": "code",
      "execution_count": null,
      "metadata": {
        "id": "QgyegHs5r8bB"
      },
      "outputs": [],
      "source": []
    },
    {
      "cell_type": "markdown",
      "metadata": {
        "id": "3o78Xz9CUosL"
      },
      "source": [
        "# Année de sortie"
      ]
    },
    {
      "cell_type": "markdown",
      "metadata": {
        "id": "Z6oI_-ZobtIZ"
      },
      "source": [
        "Nous sélectionnons les films à partir de l'année 1960.\n",
        "La dernière variable dans la régression linéaire ci-dessous est alors l'année de sortie du film."
      ]
    },
    {
      "cell_type": "code",
      "execution_count": null,
      "metadata": {
        "colab": {
          "base_uri": "https://localhost:8080/",
          "height": 521
        },
        "id": "E1UyL_AswZWt",
        "outputId": "1c8010c4-2ba7-4a60-e25a-c0969ed2bf91"
      },
      "outputs": [
        {
          "data": {
            "application/vnd.google.colaboratory.intrinsic+json": {
              "type": "dataframe",
              "variable_name": "df_2"
            },
            "text/html": [
              "\n",
              "  <div id=\"df-00fdc570-a73a-418d-afe9-e8246aac3fa1\" class=\"colab-df-container\">\n",
              "    <div>\n",
              "<style scoped>\n",
              "    .dataframe tbody tr th:only-of-type {\n",
              "        vertical-align: middle;\n",
              "    }\n",
              "\n",
              "    .dataframe tbody tr th {\n",
              "        vertical-align: top;\n",
              "    }\n",
              "\n",
              "    .dataframe thead th {\n",
              "        text-align: right;\n",
              "    }\n",
              "</style>\n",
              "<table border=\"1\" class=\"dataframe\">\n",
              "  <thead>\n",
              "    <tr style=\"text-align: right;\">\n",
              "      <th></th>\n",
              "      <th>position</th>\n",
              "      <th>const</th>\n",
              "      <th>created</th>\n",
              "      <th>modified</th>\n",
              "      <th>description</th>\n",
              "      <th>Title</th>\n",
              "      <th>Title.type</th>\n",
              "      <th>Directors</th>\n",
              "      <th>You.rated</th>\n",
              "      <th>IMDb.Rating</th>\n",
              "      <th>Runtime..mins.</th>\n",
              "      <th>Year</th>\n",
              "      <th>Genres</th>\n",
              "      <th>Num..Votes</th>\n",
              "      <th>Release.Date..month.day.year.</th>\n",
              "      <th>URL</th>\n",
              "      <th>mine</th>\n",
              "      <th>imdb</th>\n",
              "      <th>year</th>\n",
              "      <th>time</th>\n",
              "      <th>votes</th>\n",
              "      <th>year.c</th>\n",
              "      <th>Genre.N</th>\n",
              "      <th>Genre.1</th>\n",
              "      <th>Genre.2</th>\n",
              "      <th>Genre.3</th>\n",
              "      <th>Genre.4</th>\n",
              "      <th>Genre.5</th>\n",
              "      <th>drama</th>\n",
              "      <th>comedy</th>\n",
              "      <th>adventure</th>\n",
              "      <th>biography</th>\n",
              "      <th>crime</th>\n",
              "      <th>sci_fi</th>\n",
              "      <th>action</th>\n",
              "      <th>romance</th>\n",
              "      <th>mystery</th>\n",
              "      <th>thriller</th>\n",
              "      <th>new.genre</th>\n",
              "      <th>short.genre</th>\n",
              "      <th>David Fincher</th>\n",
              "      <th>Stanley Kubrick</th>\n",
              "      <th>Steven Soderbergh</th>\n",
              "      <th>Woody Allen</th>\n",
              "      <th>Akira Kurosawa</th>\n",
              "      <th>Martin Scorsese</th>\n",
              "      <th>Darren Aronofsky</th>\n",
              "      <th>David Cronenberg</th>\n",
              "      <th>Guy Ritchie</th>\n",
              "      <th>Lars Von Trier</th>\n",
              "      <th>Pier Paolo Pasolini</th>\n",
              "      <th>Steven Spielberg</th>\n",
              "    </tr>\n",
              "  </thead>\n",
              "  <tbody>\n",
              "    <tr>\n",
              "      <th>1</th>\n",
              "      <td>1</td>\n",
              "      <td>tt2370248</td>\n",
              "      <td>Mon Feb 24 00:00:00 2014</td>\n",
              "      <td>NaN</td>\n",
              "      <td>NaN</td>\n",
              "      <td>Short Term 12</td>\n",
              "      <td>Feature Film</td>\n",
              "      <td>Destin Daniel Cretton</td>\n",
              "      <td>7</td>\n",
              "      <td>8.1</td>\n",
              "      <td>96.0</td>\n",
              "      <td>2013</td>\n",
              "      <td>drama</td>\n",
              "      <td>11359</td>\n",
              "      <td>2013-03-10</td>\n",
              "      <td>http://www.imdb.com/title/tt2370248/</td>\n",
              "      <td>7</td>\n",
              "      <td>8.1</td>\n",
              "      <td>2010s</td>\n",
              "      <td>4.564348</td>\n",
              "      <td>11359</td>\n",
              "      <td>1</td>\n",
              "      <td>1</td>\n",
              "      <td>drama</td>\n",
              "      <td>0</td>\n",
              "      <td>0</td>\n",
              "      <td>0</td>\n",
              "      <td>0</td>\n",
              "      <td>1</td>\n",
              "      <td>0</td>\n",
              "      <td>0</td>\n",
              "      <td>0</td>\n",
              "      <td>0</td>\n",
              "      <td>0</td>\n",
              "      <td>0</td>\n",
              "      <td>0</td>\n",
              "      <td>0</td>\n",
              "      <td>0</td>\n",
              "      <td>serious</td>\n",
              "      <td>drama</td>\n",
              "      <td>0</td>\n",
              "      <td>0</td>\n",
              "      <td>0</td>\n",
              "      <td>0</td>\n",
              "      <td>0</td>\n",
              "      <td>0</td>\n",
              "      <td>0</td>\n",
              "      <td>0</td>\n",
              "      <td>0</td>\n",
              "      <td>0</td>\n",
              "      <td>0</td>\n",
              "      <td>0</td>\n",
              "    </tr>\n",
              "    <tr>\n",
              "      <th>2</th>\n",
              "      <td>2</td>\n",
              "      <td>tt1727388</td>\n",
              "      <td>Sat Feb 22 00:00:00 2014</td>\n",
              "      <td>NaN</td>\n",
              "      <td>NaN</td>\n",
              "      <td>The Way Way Back</td>\n",
              "      <td>Feature Film</td>\n",
              "      <td>Nat Faxon, Jim Rash</td>\n",
              "      <td>6</td>\n",
              "      <td>7.5</td>\n",
              "      <td>103.0</td>\n",
              "      <td>2013</td>\n",
              "      <td>comedy, drama</td>\n",
              "      <td>59402</td>\n",
              "      <td>2013-01-21</td>\n",
              "      <td>http://www.imdb.com/title/tt1727388/</td>\n",
              "      <td>6</td>\n",
              "      <td>7.5</td>\n",
              "      <td>2010s</td>\n",
              "      <td>4.634729</td>\n",
              "      <td>59402</td>\n",
              "      <td>1</td>\n",
              "      <td>2</td>\n",
              "      <td>comedy</td>\n",
              "      <td>drama</td>\n",
              "      <td>0</td>\n",
              "      <td>0</td>\n",
              "      <td>0</td>\n",
              "      <td>1</td>\n",
              "      <td>1</td>\n",
              "      <td>0</td>\n",
              "      <td>0</td>\n",
              "      <td>0</td>\n",
              "      <td>0</td>\n",
              "      <td>0</td>\n",
              "      <td>0</td>\n",
              "      <td>0</td>\n",
              "      <td>0</td>\n",
              "      <td>light</td>\n",
              "      <td>drama</td>\n",
              "      <td>0</td>\n",
              "      <td>0</td>\n",
              "      <td>0</td>\n",
              "      <td>0</td>\n",
              "      <td>0</td>\n",
              "      <td>0</td>\n",
              "      <td>0</td>\n",
              "      <td>0</td>\n",
              "      <td>0</td>\n",
              "      <td>0</td>\n",
              "      <td>0</td>\n",
              "      <td>0</td>\n",
              "    </tr>\n",
              "    <tr>\n",
              "      <th>3</th>\n",
              "      <td>3</td>\n",
              "      <td>tt0970179</td>\n",
              "      <td>Thu Feb 20 00:00:00 2014</td>\n",
              "      <td>NaN</td>\n",
              "      <td>NaN</td>\n",
              "      <td>Hugo</td>\n",
              "      <td>Feature Film</td>\n",
              "      <td>Martin Scorsese</td>\n",
              "      <td>8</td>\n",
              "      <td>7.6</td>\n",
              "      <td>126.0</td>\n",
              "      <td>2011</td>\n",
              "      <td>adventure, drama, family, mystery</td>\n",
              "      <td>187731</td>\n",
              "      <td>2011-10-10</td>\n",
              "      <td>http://www.imdb.com/title/tt0970179/</td>\n",
              "      <td>8</td>\n",
              "      <td>7.6</td>\n",
              "      <td>2010s</td>\n",
              "      <td>4.836282</td>\n",
              "      <td>187731</td>\n",
              "      <td>3</td>\n",
              "      <td>4</td>\n",
              "      <td>adventure</td>\n",
              "      <td>drama</td>\n",
              "      <td>family</td>\n",
              "      <td>mystery</td>\n",
              "      <td>0</td>\n",
              "      <td>1</td>\n",
              "      <td>0</td>\n",
              "      <td>1</td>\n",
              "      <td>0</td>\n",
              "      <td>0</td>\n",
              "      <td>0</td>\n",
              "      <td>0</td>\n",
              "      <td>0</td>\n",
              "      <td>1</td>\n",
              "      <td>0</td>\n",
              "      <td>adventure</td>\n",
              "      <td>adventure</td>\n",
              "      <td>0</td>\n",
              "      <td>0</td>\n",
              "      <td>0</td>\n",
              "      <td>0</td>\n",
              "      <td>0</td>\n",
              "      <td>1</td>\n",
              "      <td>0</td>\n",
              "      <td>0</td>\n",
              "      <td>0</td>\n",
              "      <td>0</td>\n",
              "      <td>0</td>\n",
              "      <td>0</td>\n",
              "    </tr>\n",
              "    <tr>\n",
              "      <th>4</th>\n",
              "      <td>4</td>\n",
              "      <td>tt1007029</td>\n",
              "      <td>Tue Feb 18 00:00:00 2014</td>\n",
              "      <td>NaN</td>\n",
              "      <td>NaN</td>\n",
              "      <td>The Iron Lady</td>\n",
              "      <td>Feature Film</td>\n",
              "      <td>Phyllida Lloyd</td>\n",
              "      <td>6</td>\n",
              "      <td>6.4</td>\n",
              "      <td>105.0</td>\n",
              "      <td>2011</td>\n",
              "      <td>biography, drama, history</td>\n",
              "      <td>58474</td>\n",
              "      <td>2011-12-26</td>\n",
              "      <td>http://www.imdb.com/title/tt1007029/</td>\n",
              "      <td>6</td>\n",
              "      <td>6.4</td>\n",
              "      <td>2010s</td>\n",
              "      <td>4.653960</td>\n",
              "      <td>58474</td>\n",
              "      <td>3</td>\n",
              "      <td>3</td>\n",
              "      <td>biography</td>\n",
              "      <td>drama</td>\n",
              "      <td>history</td>\n",
              "      <td>0</td>\n",
              "      <td>0</td>\n",
              "      <td>1</td>\n",
              "      <td>0</td>\n",
              "      <td>0</td>\n",
              "      <td>1</td>\n",
              "      <td>0</td>\n",
              "      <td>0</td>\n",
              "      <td>0</td>\n",
              "      <td>0</td>\n",
              "      <td>0</td>\n",
              "      <td>0</td>\n",
              "      <td>serious</td>\n",
              "      <td>biography</td>\n",
              "      <td>0</td>\n",
              "      <td>0</td>\n",
              "      <td>0</td>\n",
              "      <td>0</td>\n",
              "      <td>0</td>\n",
              "      <td>0</td>\n",
              "      <td>0</td>\n",
              "      <td>0</td>\n",
              "      <td>0</td>\n",
              "      <td>0</td>\n",
              "      <td>0</td>\n",
              "      <td>0</td>\n",
              "    </tr>\n",
              "    <tr>\n",
              "      <th>5</th>\n",
              "      <td>5</td>\n",
              "      <td>tt0242888</td>\n",
              "      <td>Mon Feb 17 00:00:00 2014</td>\n",
              "      <td>NaN</td>\n",
              "      <td>NaN</td>\n",
              "      <td>The Sleeping Dictionary</td>\n",
              "      <td>Feature Film</td>\n",
              "      <td>Guy Jenkin</td>\n",
              "      <td>6</td>\n",
              "      <td>6.6</td>\n",
              "      <td>109.0</td>\n",
              "      <td>2003</td>\n",
              "      <td>drama, romance</td>\n",
              "      <td>5915</td>\n",
              "      <td>2003-01-31</td>\n",
              "      <td>http://www.imdb.com/title/tt0242888/</td>\n",
              "      <td>6</td>\n",
              "      <td>6.6</td>\n",
              "      <td>2000s</td>\n",
              "      <td>4.691348</td>\n",
              "      <td>5915</td>\n",
              "      <td>11</td>\n",
              "      <td>2</td>\n",
              "      <td>drama</td>\n",
              "      <td>romance</td>\n",
              "      <td>0</td>\n",
              "      <td>0</td>\n",
              "      <td>0</td>\n",
              "      <td>1</td>\n",
              "      <td>0</td>\n",
              "      <td>0</td>\n",
              "      <td>0</td>\n",
              "      <td>0</td>\n",
              "      <td>0</td>\n",
              "      <td>0</td>\n",
              "      <td>1</td>\n",
              "      <td>0</td>\n",
              "      <td>0</td>\n",
              "      <td>light</td>\n",
              "      <td>drama</td>\n",
              "      <td>0</td>\n",
              "      <td>0</td>\n",
              "      <td>0</td>\n",
              "      <td>0</td>\n",
              "      <td>0</td>\n",
              "      <td>0</td>\n",
              "      <td>0</td>\n",
              "      <td>0</td>\n",
              "      <td>0</td>\n",
              "      <td>0</td>\n",
              "      <td>0</td>\n",
              "      <td>0</td>\n",
              "    </tr>\n",
              "  </tbody>\n",
              "</table>\n",
              "</div>\n",
              "    <div class=\"colab-df-buttons\">\n",
              "\n",
              "  <div class=\"colab-df-container\">\n",
              "    <button class=\"colab-df-convert\" onclick=\"convertToInteractive('df-00fdc570-a73a-418d-afe9-e8246aac3fa1')\"\n",
              "            title=\"Convert this dataframe to an interactive table.\"\n",
              "            style=\"display:none;\">\n",
              "\n",
              "  <svg xmlns=\"http://www.w3.org/2000/svg\" height=\"24px\" viewBox=\"0 -960 960 960\">\n",
              "    <path d=\"M120-120v-720h720v720H120Zm60-500h600v-160H180v160Zm220 220h160v-160H400v160Zm0 220h160v-160H400v160ZM180-400h160v-160H180v160Zm440 0h160v-160H620v160ZM180-180h160v-160H180v160Zm440 0h160v-160H620v160Z\"/>\n",
              "  </svg>\n",
              "    </button>\n",
              "\n",
              "  <style>\n",
              "    .colab-df-container {\n",
              "      display:flex;\n",
              "      gap: 12px;\n",
              "    }\n",
              "\n",
              "    .colab-df-convert {\n",
              "      background-color: #E8F0FE;\n",
              "      border: none;\n",
              "      border-radius: 50%;\n",
              "      cursor: pointer;\n",
              "      display: none;\n",
              "      fill: #1967D2;\n",
              "      height: 32px;\n",
              "      padding: 0 0 0 0;\n",
              "      width: 32px;\n",
              "    }\n",
              "\n",
              "    .colab-df-convert:hover {\n",
              "      background-color: #E2EBFA;\n",
              "      box-shadow: 0px 1px 2px rgba(60, 64, 67, 0.3), 0px 1px 3px 1px rgba(60, 64, 67, 0.15);\n",
              "      fill: #174EA6;\n",
              "    }\n",
              "\n",
              "    .colab-df-buttons div {\n",
              "      margin-bottom: 4px;\n",
              "    }\n",
              "\n",
              "    [theme=dark] .colab-df-convert {\n",
              "      background-color: #3B4455;\n",
              "      fill: #D2E3FC;\n",
              "    }\n",
              "\n",
              "    [theme=dark] .colab-df-convert:hover {\n",
              "      background-color: #434B5C;\n",
              "      box-shadow: 0px 1px 3px 1px rgba(0, 0, 0, 0.15);\n",
              "      filter: drop-shadow(0px 1px 2px rgba(0, 0, 0, 0.3));\n",
              "      fill: #FFFFFF;\n",
              "    }\n",
              "  </style>\n",
              "\n",
              "    <script>\n",
              "      const buttonEl =\n",
              "        document.querySelector('#df-00fdc570-a73a-418d-afe9-e8246aac3fa1 button.colab-df-convert');\n",
              "      buttonEl.style.display =\n",
              "        google.colab.kernel.accessAllowed ? 'block' : 'none';\n",
              "\n",
              "      async function convertToInteractive(key) {\n",
              "        const element = document.querySelector('#df-00fdc570-a73a-418d-afe9-e8246aac3fa1');\n",
              "        const dataTable =\n",
              "          await google.colab.kernel.invokeFunction('convertToInteractive',\n",
              "                                                    [key], {});\n",
              "        if (!dataTable) return;\n",
              "\n",
              "        const docLinkHtml = 'Like what you see? Visit the ' +\n",
              "          '<a target=\"_blank\" href=https://colab.research.google.com/notebooks/data_table.ipynb>data table notebook</a>'\n",
              "          + ' to learn more about interactive tables.';\n",
              "        element.innerHTML = '';\n",
              "        dataTable['output_type'] = 'display_data';\n",
              "        await google.colab.output.renderOutput(dataTable, element);\n",
              "        const docLink = document.createElement('div');\n",
              "        docLink.innerHTML = docLinkHtml;\n",
              "        element.appendChild(docLink);\n",
              "      }\n",
              "    </script>\n",
              "  </div>\n",
              "\n",
              "\n",
              "<div id=\"df-da12f8c0-658d-43c4-989f-827456a0f33f\">\n",
              "  <button class=\"colab-df-quickchart\" onclick=\"quickchart('df-da12f8c0-658d-43c4-989f-827456a0f33f')\"\n",
              "            title=\"Suggest charts\"\n",
              "            style=\"display:none;\">\n",
              "\n",
              "<svg xmlns=\"http://www.w3.org/2000/svg\" height=\"24px\"viewBox=\"0 0 24 24\"\n",
              "     width=\"24px\">\n",
              "    <g>\n",
              "        <path d=\"M19 3H5c-1.1 0-2 .9-2 2v14c0 1.1.9 2 2 2h14c1.1 0 2-.9 2-2V5c0-1.1-.9-2-2-2zM9 17H7v-7h2v7zm4 0h-2V7h2v10zm4 0h-2v-4h2v4z\"/>\n",
              "    </g>\n",
              "</svg>\n",
              "  </button>\n",
              "\n",
              "<style>\n",
              "  .colab-df-quickchart {\n",
              "      --bg-color: #E8F0FE;\n",
              "      --fill-color: #1967D2;\n",
              "      --hover-bg-color: #E2EBFA;\n",
              "      --hover-fill-color: #174EA6;\n",
              "      --disabled-fill-color: #AAA;\n",
              "      --disabled-bg-color: #DDD;\n",
              "  }\n",
              "\n",
              "  [theme=dark] .colab-df-quickchart {\n",
              "      --bg-color: #3B4455;\n",
              "      --fill-color: #D2E3FC;\n",
              "      --hover-bg-color: #434B5C;\n",
              "      --hover-fill-color: #FFFFFF;\n",
              "      --disabled-bg-color: #3B4455;\n",
              "      --disabled-fill-color: #666;\n",
              "  }\n",
              "\n",
              "  .colab-df-quickchart {\n",
              "    background-color: var(--bg-color);\n",
              "    border: none;\n",
              "    border-radius: 50%;\n",
              "    cursor: pointer;\n",
              "    display: none;\n",
              "    fill: var(--fill-color);\n",
              "    height: 32px;\n",
              "    padding: 0;\n",
              "    width: 32px;\n",
              "  }\n",
              "\n",
              "  .colab-df-quickchart:hover {\n",
              "    background-color: var(--hover-bg-color);\n",
              "    box-shadow: 0 1px 2px rgba(60, 64, 67, 0.3), 0 1px 3px 1px rgba(60, 64, 67, 0.15);\n",
              "    fill: var(--button-hover-fill-color);\n",
              "  }\n",
              "\n",
              "  .colab-df-quickchart-complete:disabled,\n",
              "  .colab-df-quickchart-complete:disabled:hover {\n",
              "    background-color: var(--disabled-bg-color);\n",
              "    fill: var(--disabled-fill-color);\n",
              "    box-shadow: none;\n",
              "  }\n",
              "\n",
              "  .colab-df-spinner {\n",
              "    border: 2px solid var(--fill-color);\n",
              "    border-color: transparent;\n",
              "    border-bottom-color: var(--fill-color);\n",
              "    animation:\n",
              "      spin 1s steps(1) infinite;\n",
              "  }\n",
              "\n",
              "  @keyframes spin {\n",
              "    0% {\n",
              "      border-color: transparent;\n",
              "      border-bottom-color: var(--fill-color);\n",
              "      border-left-color: var(--fill-color);\n",
              "    }\n",
              "    20% {\n",
              "      border-color: transparent;\n",
              "      border-left-color: var(--fill-color);\n",
              "      border-top-color: var(--fill-color);\n",
              "    }\n",
              "    30% {\n",
              "      border-color: transparent;\n",
              "      border-left-color: var(--fill-color);\n",
              "      border-top-color: var(--fill-color);\n",
              "      border-right-color: var(--fill-color);\n",
              "    }\n",
              "    40% {\n",
              "      border-color: transparent;\n",
              "      border-right-color: var(--fill-color);\n",
              "      border-top-color: var(--fill-color);\n",
              "    }\n",
              "    60% {\n",
              "      border-color: transparent;\n",
              "      border-right-color: var(--fill-color);\n",
              "    }\n",
              "    80% {\n",
              "      border-color: transparent;\n",
              "      border-right-color: var(--fill-color);\n",
              "      border-bottom-color: var(--fill-color);\n",
              "    }\n",
              "    90% {\n",
              "      border-color: transparent;\n",
              "      border-bottom-color: var(--fill-color);\n",
              "    }\n",
              "  }\n",
              "</style>\n",
              "\n",
              "  <script>\n",
              "    async function quickchart(key) {\n",
              "      const quickchartButtonEl =\n",
              "        document.querySelector('#' + key + ' button');\n",
              "      quickchartButtonEl.disabled = true;  // To prevent multiple clicks.\n",
              "      quickchartButtonEl.classList.add('colab-df-spinner');\n",
              "      try {\n",
              "        const charts = await google.colab.kernel.invokeFunction(\n",
              "            'suggestCharts', [key], {});\n",
              "      } catch (error) {\n",
              "        console.error('Error during call to suggestCharts:', error);\n",
              "      }\n",
              "      quickchartButtonEl.classList.remove('colab-df-spinner');\n",
              "      quickchartButtonEl.classList.add('colab-df-quickchart-complete');\n",
              "    }\n",
              "    (() => {\n",
              "      let quickchartButtonEl =\n",
              "        document.querySelector('#df-da12f8c0-658d-43c4-989f-827456a0f33f button');\n",
              "      quickchartButtonEl.style.display =\n",
              "        google.colab.kernel.accessAllowed ? 'block' : 'none';\n",
              "    })();\n",
              "  </script>\n",
              "</div>\n",
              "\n",
              "    </div>\n",
              "  </div>\n"
            ],
            "text/plain": [
              "   position      const                   created  modified  description  \\\n",
              "1         1  tt2370248  Mon Feb 24 00:00:00 2014       NaN          NaN   \n",
              "2         2  tt1727388  Sat Feb 22 00:00:00 2014       NaN          NaN   \n",
              "3         3  tt0970179  Thu Feb 20 00:00:00 2014       NaN          NaN   \n",
              "4         4  tt1007029  Tue Feb 18 00:00:00 2014       NaN          NaN   \n",
              "5         5  tt0242888  Mon Feb 17 00:00:00 2014       NaN          NaN   \n",
              "\n",
              "                     Title    Title.type              Directors  You.rated  \\\n",
              "1            Short Term 12  Feature Film  Destin Daniel Cretton          7   \n",
              "2         The Way Way Back  Feature Film    Nat Faxon, Jim Rash          6   \n",
              "3                     Hugo  Feature Film        Martin Scorsese          8   \n",
              "4            The Iron Lady  Feature Film         Phyllida Lloyd          6   \n",
              "5  The Sleeping Dictionary  Feature Film             Guy Jenkin          6   \n",
              "\n",
              "   IMDb.Rating  Runtime..mins.  Year                             Genres  \\\n",
              "1          8.1            96.0  2013                              drama   \n",
              "2          7.5           103.0  2013                      comedy, drama   \n",
              "3          7.6           126.0  2011  adventure, drama, family, mystery   \n",
              "4          6.4           105.0  2011          biography, drama, history   \n",
              "5          6.6           109.0  2003                     drama, romance   \n",
              "\n",
              "   Num..Votes Release.Date..month.day.year.  \\\n",
              "1       11359                    2013-03-10   \n",
              "2       59402                    2013-01-21   \n",
              "3      187731                    2011-10-10   \n",
              "4       58474                    2011-12-26   \n",
              "5        5915                    2003-01-31   \n",
              "\n",
              "                                    URL  mine  imdb   year      time   votes  \\\n",
              "1  http://www.imdb.com/title/tt2370248/     7   8.1  2010s  4.564348   11359   \n",
              "2  http://www.imdb.com/title/tt1727388/     6   7.5  2010s  4.634729   59402   \n",
              "3  http://www.imdb.com/title/tt0970179/     8   7.6  2010s  4.836282  187731   \n",
              "4  http://www.imdb.com/title/tt1007029/     6   6.4  2010s  4.653960   58474   \n",
              "5  http://www.imdb.com/title/tt0242888/     6   6.6  2000s  4.691348    5915   \n",
              "\n",
              "   year.c  Genre.N    Genre.1  Genre.2  Genre.3  Genre.4 Genre.5  drama    \\\n",
              "1       1        1      drama        0        0        0       0        1   \n",
              "2       1        2     comedy    drama        0        0       0        1   \n",
              "3       3        4  adventure    drama   family  mystery       0        1   \n",
              "4       3        3  biography    drama  history        0       0        1   \n",
              "5      11        2      drama  romance        0        0       0        1   \n",
              "\n",
              "   comedy    adventure    biography    crime    sci_fi    action    romance    \\\n",
              "1         0            0            0        0         0         0          0   \n",
              "2         1            0            0        0         0         0          0   \n",
              "3         0            1            0        0         0         0          0   \n",
              "4         0            0            1        0         0         0          0   \n",
              "5         0            0            0        0         0         0          1   \n",
              "\n",
              "   mystery    thriller    new.genre short.genre  David Fincher    \\\n",
              "1          0           0    serious       drama                0   \n",
              "2          0           0      light       drama                0   \n",
              "3          1           0  adventure   adventure                0   \n",
              "4          0           0    serious   biography                0   \n",
              "5          0           0      light       drama                0   \n",
              "\n",
              "   Stanley Kubrick    Steven Soderbergh    Woody Allen    Akira Kurosawa    \\\n",
              "1                  0                    0              0                 0   \n",
              "2                  0                    0              0                 0   \n",
              "3                  0                    0              0                 0   \n",
              "4                  0                    0              0                 0   \n",
              "5                  0                    0              0                 0   \n",
              "\n",
              "   Martin Scorsese    Darren Aronofsky    David Cronenberg    Guy Ritchie    \\\n",
              "1                  0                   0                   0              0   \n",
              "2                  0                   0                   0              0   \n",
              "3                  1                   0                   0              0   \n",
              "4                  0                   0                   0              0   \n",
              "5                  0                   0                   0              0   \n",
              "\n",
              "   Lars Von Trier    Pier Paolo Pasolini    Steven Spielberg    \n",
              "1                 0                      0                   0  \n",
              "2                 0                      0                   0  \n",
              "3                 0                      0                   0  \n",
              "4                 0                      0                   0  \n",
              "5                 0                      0                   0  "
            ]
          },
          "execution_count": 104,
          "metadata": {},
          "output_type": "execute_result"
        }
      ],
      "source": [
        "df_2 = df[df[\"Year\"] >= 1960]\n",
        "df_2.head()"
      ]
    },
    {
      "cell_type": "code",
      "execution_count": null,
      "metadata": {
        "colab": {
          "base_uri": "https://localhost:8080/",
          "height": 528
        },
        "id": "9nF1BnWlUq4L",
        "outputId": "b3aaa603-e0e3-46f7-b77c-34910e03e787"
      },
      "outputs": [
        {
          "data": {
            "text/html": [
              "<table class=\"simpletable\">\n",
              "<caption>OLS Regression Results</caption>\n",
              "<tr>\n",
              "  <th>Dep. Variable:</th>            <td>y</td>        <th>  R-squared:         </th> <td>   0.244</td>\n",
              "</tr>\n",
              "<tr>\n",
              "  <th>Model:</th>                   <td>OLS</td>       <th>  Adj. R-squared:    </th> <td>   0.241</td>\n",
              "</tr>\n",
              "<tr>\n",
              "  <th>Method:</th>             <td>Least Squares</td>  <th>  F-statistic:       </th> <td>   65.65</td>\n",
              "</tr>\n",
              "<tr>\n",
              "  <th>Date:</th>             <td>Tue, 01 Oct 2024</td> <th>  Prob (F-statistic):</th> <td>1.97e-25</td>\n",
              "</tr>\n",
              "<tr>\n",
              "  <th>Time:</th>                 <td>15:59:25</td>     <th>  Log-Likelihood:    </th> <td> -666.63</td>\n",
              "</tr>\n",
              "<tr>\n",
              "  <th>No. Observations:</th>      <td>   409</td>      <th>  AIC:               </th> <td>   1339.</td>\n",
              "</tr>\n",
              "<tr>\n",
              "  <th>Df Residuals:</th>          <td>   406</td>      <th>  BIC:               </th> <td>   1351.</td>\n",
              "</tr>\n",
              "<tr>\n",
              "  <th>Df Model:</th>              <td>     2</td>      <th>                     </th>     <td> </td>   \n",
              "</tr>\n",
              "<tr>\n",
              "  <th>Covariance Type:</th>      <td>nonrobust</td>    <th>                     </th>     <td> </td>   \n",
              "</tr>\n",
              "</table>\n",
              "<table class=\"simpletable\">\n",
              "<tr>\n",
              "    <td></td>       <th>coef</th>     <th>std err</th>      <th>t</th>      <th>P>|t|</th>  <th>[0.025</th>    <th>0.975]</th>  \n",
              "</tr>\n",
              "<tr>\n",
              "  <th>const</th> <td>   36.4372</td> <td>    9.405</td> <td>    3.874</td> <td> 0.000</td> <td>   17.949</td> <td>   54.925</td>\n",
              "</tr>\n",
              "<tr>\n",
              "  <th>imdb</th>  <td>    0.8656</td> <td>    0.092</td> <td>    9.379</td> <td> 0.000</td> <td>    0.684</td> <td>    1.047</td>\n",
              "</tr>\n",
              "<tr>\n",
              "  <th>Year</th>  <td>   -0.0182</td> <td>    0.005</td> <td>   -3.946</td> <td> 0.000</td> <td>   -0.027</td> <td>   -0.009</td>\n",
              "</tr>\n",
              "</table>\n",
              "<table class=\"simpletable\">\n",
              "<tr>\n",
              "  <th>Omnibus:</th>       <td>74.137</td> <th>  Durbin-Watson:     </th> <td>   1.852</td>\n",
              "</tr>\n",
              "<tr>\n",
              "  <th>Prob(Omnibus):</th> <td> 0.000</td> <th>  Jarque-Bera (JB):  </th> <td> 138.312</td>\n",
              "</tr>\n",
              "<tr>\n",
              "  <th>Skew:</th>          <td>-1.012</td> <th>  Prob(JB):          </th> <td>9.25e-31</td>\n",
              "</tr>\n",
              "<tr>\n",
              "  <th>Kurtosis:</th>      <td> 5.005</td> <th>  Cond. No.          </th> <td>3.07e+05</td>\n",
              "</tr>\n",
              "</table><br/><br/>Notes:<br/>[1] Standard Errors assume that the covariance matrix of the errors is correctly specified.<br/>[2] The condition number is large, 3.07e+05. This might indicate that there are<br/>strong multicollinearity or other numerical problems."
            ],
            "text/latex": [
              "\\begin{center}\n",
              "\\begin{tabular}{lclc}\n",
              "\\toprule\n",
              "\\textbf{Dep. Variable:}    &        y         & \\textbf{  R-squared:         } &     0.244   \\\\\n",
              "\\textbf{Model:}            &       OLS        & \\textbf{  Adj. R-squared:    } &     0.241   \\\\\n",
              "\\textbf{Method:}           &  Least Squares   & \\textbf{  F-statistic:       } &     65.65   \\\\\n",
              "\\textbf{Date:}             & Tue, 01 Oct 2024 & \\textbf{  Prob (F-statistic):} &  1.97e-25   \\\\\n",
              "\\textbf{Time:}             &     15:59:25     & \\textbf{  Log-Likelihood:    } &   -666.63   \\\\\n",
              "\\textbf{No. Observations:} &         409      & \\textbf{  AIC:               } &     1339.   \\\\\n",
              "\\textbf{Df Residuals:}     &         406      & \\textbf{  BIC:               } &     1351.   \\\\\n",
              "\\textbf{Df Model:}         &           2      & \\textbf{                     } &             \\\\\n",
              "\\textbf{Covariance Type:}  &    nonrobust     & \\textbf{                     } &             \\\\\n",
              "\\bottomrule\n",
              "\\end{tabular}\n",
              "\\begin{tabular}{lcccccc}\n",
              "               & \\textbf{coef} & \\textbf{std err} & \\textbf{t} & \\textbf{P$> |$t$|$} & \\textbf{[0.025} & \\textbf{0.975]}  \\\\\n",
              "\\midrule\n",
              "\\textbf{const} &      36.4372  &        9.405     &     3.874  &         0.000        &       17.949    &       54.925     \\\\\n",
              "\\textbf{imdb}  &       0.8656  &        0.092     &     9.379  &         0.000        &        0.684    &        1.047     \\\\\n",
              "\\textbf{Year}  &      -0.0182  &        0.005     &    -3.946  &         0.000        &       -0.027    &       -0.009     \\\\\n",
              "\\bottomrule\n",
              "\\end{tabular}\n",
              "\\begin{tabular}{lclc}\n",
              "\\textbf{Omnibus:}       & 74.137 & \\textbf{  Durbin-Watson:     } &    1.852  \\\\\n",
              "\\textbf{Prob(Omnibus):} &  0.000 & \\textbf{  Jarque-Bera (JB):  } &  138.312  \\\\\n",
              "\\textbf{Skew:}          & -1.012 & \\textbf{  Prob(JB):          } & 9.25e-31  \\\\\n",
              "\\textbf{Kurtosis:}      &  5.005 & \\textbf{  Cond. No.          } & 3.07e+05  \\\\\n",
              "\\bottomrule\n",
              "\\end{tabular}\n",
              "%\\caption{OLS Regression Results}\n",
              "\\end{center}\n",
              "\n",
              "Notes: \\newline\n",
              " [1] Standard Errors assume that the covariance matrix of the errors is correctly specified. \\newline\n",
              " [2] The condition number is large, 3.07e+05. This might indicate that there are \\newline\n",
              " strong multicollinearity or other numerical problems."
            ],
            "text/plain": [
              "<class 'statsmodels.iolib.summary.Summary'>\n",
              "\"\"\"\n",
              "                            OLS Regression Results                            \n",
              "==============================================================================\n",
              "Dep. Variable:                      y   R-squared:                       0.244\n",
              "Model:                            OLS   Adj. R-squared:                  0.241\n",
              "Method:                 Least Squares   F-statistic:                     65.65\n",
              "Date:                Tue, 01 Oct 2024   Prob (F-statistic):           1.97e-25\n",
              "Time:                        15:59:25   Log-Likelihood:                -666.63\n",
              "No. Observations:                 409   AIC:                             1339.\n",
              "Df Residuals:                     406   BIC:                             1351.\n",
              "Df Model:                           2                                         \n",
              "Covariance Type:            nonrobust                                         \n",
              "==============================================================================\n",
              "                 coef    std err          t      P>|t|      [0.025      0.975]\n",
              "------------------------------------------------------------------------------\n",
              "const         36.4372      9.405      3.874      0.000      17.949      54.925\n",
              "imdb           0.8656      0.092      9.379      0.000       0.684       1.047\n",
              "Year          -0.0182      0.005     -3.946      0.000      -0.027      -0.009\n",
              "==============================================================================\n",
              "Omnibus:                       74.137   Durbin-Watson:                   1.852\n",
              "Prob(Omnibus):                  0.000   Jarque-Bera (JB):              138.312\n",
              "Skew:                          -1.012   Prob(JB):                     9.25e-31\n",
              "Kurtosis:                       5.005   Cond. No.                     3.07e+05\n",
              "==============================================================================\n",
              "\n",
              "Notes:\n",
              "[1] Standard Errors assume that the covariance matrix of the errors is correctly specified.\n",
              "[2] The condition number is large, 3.07e+05. This might indicate that there are\n",
              "strong multicollinearity or other numerical problems.\n",
              "\"\"\""
            ]
          },
          "execution_count": 105,
          "metadata": {},
          "output_type": "execute_result"
        }
      ],
      "source": [
        "X = df_2[[\"imdb\",\"Year\" ]]\n",
        "X_OLS = sm.add_constant(X)\n",
        "Y = df_2[\"mine\"].values.reshape(-1, 1)\n",
        "\n",
        "model = sm.OLS(endog=Y, exog=X_OLS)\n",
        "model_fit = model.fit()\n",
        "model_fit.summary()"
      ]
    },
    {
      "cell_type": "markdown",
      "metadata": {
        "id": "lRRPC9K9bx21"
      },
      "source": [
        "Un film ancien est-il généralement mieux noté ? Pourquoi selon vous ?"
      ]
    },
    {
      "cell_type": "markdown",
      "metadata": {
        "id": "ld27zbuLxQc6"
      },
      "source": []
    },
    {
      "cell_type": "markdown",
      "metadata": {
        "id": "gfks4GQexQtM"
      },
      "source": [
        "La postérité ne garde que des bons films !Plus un film est récent plus il a de chance d'être mal noté car il été vu sans être conseillé."
      ]
    },
    {
      "cell_type": "markdown",
      "metadata": {
        "id": "AolEE8wlb0EQ"
      },
      "source": [
        "Affichez les résidus de la régression linéaire en fonction des années."
      ]
    },
    {
      "cell_type": "code",
      "execution_count": null,
      "metadata": {
        "id": "VQKUwuLbyzQj"
      },
      "outputs": [],
      "source": []
    },
    {
      "cell_type": "markdown",
      "metadata": {
        "id": "nrZj1lZEcSh5"
      },
      "source": [
        "# Train et test"
      ]
    },
    {
      "cell_type": "markdown",
      "metadata": {
        "id": "NzL8BkIdzJb8"
      },
      "source": [
        "Entrainez votre modèle sur 80% des données en utlisant les variablesde list_col. Comparer les résultats en test et en train et choisissez (ou non) d'implémenter votre modèle."
      ]
    },
    {
      "cell_type": "code",
      "execution_count": null,
      "metadata": {
        "colab": {
          "base_uri": "https://localhost:8080/"
        },
        "id": "rLe-hQie1ZRa",
        "outputId": "3557adda-e742-4cc8-a6e7-36949eeed8c9"
      },
      "outputs": [
        {
          "data": {
            "text/plain": [
              "['position',\n",
              " 'const',\n",
              " 'created',\n",
              " 'modified',\n",
              " 'description',\n",
              " 'Title',\n",
              " 'Title.type',\n",
              " 'Directors',\n",
              " 'You.rated',\n",
              " 'IMDb.Rating',\n",
              " 'Runtime..mins.',\n",
              " 'Year',\n",
              " 'Genres',\n",
              " 'Num..Votes',\n",
              " 'Release.Date..month.day.year.',\n",
              " 'URL',\n",
              " 'mine',\n",
              " 'imdb',\n",
              " 'year',\n",
              " 'time',\n",
              " 'votes',\n",
              " 'year.c',\n",
              " 'Genre.N',\n",
              " 'Genre.1',\n",
              " 'Genre.2',\n",
              " 'Genre.3',\n",
              " 'Genre.4',\n",
              " 'Genre.5',\n",
              " 'drama  ',\n",
              " 'comedy  ',\n",
              " 'adventure  ',\n",
              " 'biography  ',\n",
              " 'crime  ',\n",
              " 'sci_fi  ',\n",
              " 'action  ',\n",
              " 'romance  ',\n",
              " 'mystery  ',\n",
              " 'thriller  ',\n",
              " 'new.genre',\n",
              " 'short.genre',\n",
              " 'David Fincher  ',\n",
              " 'Stanley Kubrick  ',\n",
              " 'Steven Soderbergh  ',\n",
              " 'Woody Allen  ',\n",
              " 'Akira Kurosawa  ',\n",
              " 'Martin Scorsese  ',\n",
              " 'Darren Aronofsky  ',\n",
              " 'David Cronenberg  ',\n",
              " 'Guy Ritchie  ',\n",
              " 'Lars Von Trier  ',\n",
              " 'Pier Paolo Pasolini  ',\n",
              " 'Steven Spielberg  ']"
            ]
          },
          "execution_count": 121,
          "metadata": {},
          "output_type": "execute_result"
        }
      ],
      "source": [
        "list(df.columns)"
      ]
    },
    {
      "cell_type": "code",
      "execution_count": null,
      "metadata": {
        "id": "7rVeNvja01u9"
      },
      "outputs": [],
      "source": [
        "list_col =[\"imdb\",\"Year\",\n",
        "           'comedy  ',\n",
        " 'adventure  ',\n",
        " 'biography  ',\n",
        " 'crime  ',\n",
        " 'sci_fi  ',\n",
        " 'action  ',\n",
        " 'romance  ',\n",
        " 'mystery  ',\n",
        " 'thriller  ',]"
      ]
    },
    {
      "cell_type": "code",
      "execution_count": null,
      "metadata": {
        "id": "XbbGBhaM4Ajf"
      },
      "outputs": [],
      "source": [
        "#TODO"
      ]
    }
  ],
  "metadata": {
    "colab": {
      "provenance": []
    },
    "kernelspec": {
      "display_name": "Python 3",
      "name": "python3"
    },
    "language_info": {
      "codemirror_mode": {
        "name": "ipython",
        "version": 3
      },
      "file_extension": ".py",
      "mimetype": "text/x-python",
      "name": "python",
      "nbconvert_exporter": "python",
      "pygments_lexer": "ipython3",
      "version": "3.10.4"
    }
  },
  "nbformat": 4,
  "nbformat_minor": 0
}
