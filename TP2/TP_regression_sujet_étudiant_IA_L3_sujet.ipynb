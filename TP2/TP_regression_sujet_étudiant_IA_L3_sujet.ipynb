{
  "cells": [
    {
      "cell_type": "markdown",
      "metadata": {
        "id": "5yIWtVHIkdXm"
      },
      "source": [
        "# La régression linéaire\n",
        "\n",
        "\n",
        "## Régression linéaire\n",
        "En statistique, la régression linéaire est une approche linéaire de la\n",
        "modélisation de la relation entre une variable expliquée et une ou\n",
        "plusieurs variables explicatives (covariables). Dans le cas d'une seule variable explicative, on parle de régression linéaire simple. Pour plus d'une variable explicative (indépendante), le processus est appelé régression linéaire\n",
        "multiple. Nous allons traiter la régression linéaire simple dans ce\n",
        "tutoriel.\n",
        "Soit **X** la variable explicative et **Y** la variable\n",
        "expliquée. Nous allons définir une relation linéaire entre ces deux\n",
        "variables comme suit :\n",
        "\n",
        "\\\\[ Y = aX + b \\\\]  \n",
        "![mxplusc](SlopeInterceptLineEqu.png)\n",
        "\n",
        "Voici l'équation d'une droite que vous avez étudiée au lycée. **a** est la pente de la droite et **b** est l'ordonnée à l'origine. Aujourd'hui, nous allons utiliser cette équation pour entraîner notre modèle avec un ensemble de données donné et prédire la valeur de **Y** pour toute valeur donnée de **X**.\n",
        "  \n",
        "Notre défi d'aujourd'hui est de déterminer la valeur de **a** et **b**, qui donnent l'erreur minimale pour l'ensemble de données donné. Pour ce faire, nous utiliserons d'abord la méthode des **moindre carrés**.  \n",
        "\n",
        "## Trouver l'erreur  \n",
        "Pour minimiser l'erreur, nous devons d'abord trouver un moyen de la calculer. Une **fonction de perte (loss)** en apprentissage automatique est simplement une mesure de la différence entre la valeur prédite et la valeur réelle.  \n",
        "Aujourd'hui, nous allons utiliser une **fonction de loss quadratique (L2)** pour calculer la perte ou l'erreur dans notre modèle. Elle peut être définie comme suit :\n",
        "  \n",
        "\\\\[ S(x) = \\sum_{i=1}^n (y_i - \\hat{y}_i)^2\\\\]  \n",
        "\n",
        "  \n",
        "Nous élevons  $(y - \\hat{y})$  au carré car, pour les points situés sous la ligne de\n",
        "régression, $(y - \\hat{y}\\$ sera négatif et nous ne voulons pas de\n",
        "valeurs négatives dans notre erreur totale (cela annulerait les valeurs\n",
        "positives).\n",
        "\n",
        "## Méthode des moindres carrés\n",
        "\n",
        "Maintenant que nous avons choisi la fonction de perte, la seule chose qui reste à faire est de la minimiser. Pour ce faire, il faut trouver la dérivée partielle de **S**, l'égaliser à 0, puis trouver une expression pour **a** et **b**.\n",
        "\n",
        "Posons $S=\\sum_{i=1}^n (y_i - \\hat{y_i})^2$ avec $\\hat{y_i}=ax_i +b$.\n",
        "Nous allons dériver **S** partiellement en fonction b et de a pour chercher son minimum (rappelons que **S** est convexe).\n",
        "<ins>Calcule de $b$ :</ins>\n",
        "\\\\[\\frac{\\partial}{\\partial b}\\sum_{i=1}^n (y_i - (a x_i + b ))^2 \\\\]\n",
        "\\\\[=\\frac{\\partial}{\\partial b}\\sum_{i=1}^n (y_i^2 -2y_iax_i - 2y_i b + (a x_i + b)^2)  \\\\]\n",
        "\\\\[=\\frac{\\partial}{\\partial b}\\sum_{i=1}^n (y_i^2 - 2 y_i a x_i - 2 y_i b + a^2x_i^2 + 2a x_i b + b^2) \\\\]\n",
        "\\\\[=\\sum_{i=1}^n (-2y_i + 2a x_i + 2b) \\\\]\n",
        "\\\\[=-2\\sum_{i=1}^n (y_i - (ax_i +b)) \\\\]\n",
        "On cherche $b$ tel que $\\frac{\\partial S}{\\partial b}=0$ et on fixe $a$ à une constante quelconque.\n",
        "\n",
        "\\\\[-2\\sum_{i=1}^n (y_i - (ax_i +b)) = 0 \\\\]\n",
        "\n",
        "\\\\[<=>\\sum_{i=1}^n (y_i - (ax_i +b)) = 0 \\\\]\n",
        "\\\\[<=>\\sum_{i=1}^n (y_i) - \\sum_{i=1}^n(ax_i) - nb = 0 \\\\]\n",
        "\\\\[<=>b = \\frac{\\sum_{i=1}^n y_i}{n} - \\frac{\\sum_{i=1}^n ax_i}{n}\\\\]\n",
        "On pose $\\bar{y}$ et $\\bar{x}$ les moyennes respectives de $y$ et $x$.\n",
        "\n",
        "\n",
        "\\\\[<=>b =  \\bar{y} - a \\bar{x} \\\\]\n",
        "\n",
        "<ins>Calcul de $a$ :</ins>\n",
        "\\\\[\\frac{\\partial}{\\partial a}\\sum_{i=1}^n (y_i - ( ax_i + \\bar{y} - a \\bar{x}) )^2 \\\\]\n",
        "On factorise par $(x_i- \\bar{x})$ et par $(y_i- \\bar{y})$ pour simplifier le développement <br>\n",
        "\\\\[<=>\\frac{\\partial}{\\partial a}\\sum_{i=1}^n (-a(x_i-\\bar{x})+(y_i-\\bar{y}))^2\\\\]\n",
        "\\\\[<=>\\frac{\\partial}{\\partial a}\\sum_{i=1}^n (a^2(x_i-\\bar{x})^2-2a(x_i-\\bar{x})(y_i-\\bar{y}))+(y_i-\\bar{y})^2)\\\\]\n",
        "\\\\[<=>\\sum_{i=1}^n(2(x_i-\\bar{x})^2 - 2(x_i-\\bar{x})(y_i-\\bar{y}))\\\\]\n",
        "On cherche $a$ tel que $\\frac{\\partial S}{\\partial a}=0$ <br>\n",
        "\\\\[<=> a\\sum_{i=1}^n (2a(x_i - \\bar{x})^2)- 2\\sum_{i=1}^n (x_i-\\bar{x})(y_i-\\bar{y}) = 0 \\\\]\n",
        "\\\\[<=> a = \\frac{\\sum_{i=1}^n(x_i-\\bar{x})(y_i-\\bar{y})}{\\sum_{i=1}^n (x_i - \\bar{x})^2}\\\\]\n",
        "Vous aurez peut-être identifié $\\sigma_{xy}=\\sum_{i=1}^n(x_i-\\bar{x})(y_i-\\bar{y})$ et $\\sigma_x^2=\\sum_{i=1}^n (x_i - \\bar{x})^2$.       \n",
        "\n",
        "\n",
        "<ins>on trouve donc pour $a$ et $b$ :</ins>\n",
        "\\\\[a = \\frac{\\sum_{i=1}^n (x_i - \\bar x)(y_i - \\bar y)}{\\sum_{i=1}^n (x_i - \\bar x)^2}\\\\]  \n",
        "  \n",
        "\\\\[b = \\bar y - a\\bar x\\\\]  \n",
        "  \n",
        "Ici, $\\bar x$ est la moyenne de toutes les valeurs de l'entrée **X** et $\\bar y$ est la moyenne de toutes les valeurs de la sortie souhaitée **Y**. Il s'agit de la méthode des moindres carrés.\n",
        "Nous allons maintenant l'implémenter en Python et faire des prédictions.  "
      ]
    },
    {
      "cell_type": "markdown",
      "metadata": {
        "id": "msrWf7BqkdXo"
      },
      "source": [
        "## Implementing the Model"
      ]
    },
    {
      "cell_type": "code",
      "execution_count": 118,
      "metadata": {
        "id": "CoHmNOHdkdXp"
      },
      "outputs": [],
      "source": [
        "# Making imports\n",
        "import pandas as pd\n",
        "import numpy as np\n",
        "import matplotlib.pyplot as plt\n",
        "plt.rcParams['figure.figsize'] = (7, 5)"
      ]
    },
    {
      "cell_type": "markdown",
      "metadata": {
        "id": "5Y5VPPRJPYBh"
      },
      "source": [
        "Charger les données 'data.csv'"
      ]
    },
    {
      "cell_type": "code",
      "execution_count": 119,
      "metadata": {
        "colab": {
          "base_uri": "https://localhost:8080/",
          "height": 74
        },
        "id": "XS2zn2FyPT-g",
        "outputId": "129d423c-d30e-4333-a2a1-97809ae8fe33"
      },
      "outputs": [
        {
          "ename": "ModuleNotFoundError",
          "evalue": "No module named 'google'",
          "output_type": "error",
          "traceback": [
            "\u001b[1;31m---------------------------------------------------------------------------\u001b[0m",
            "\u001b[1;31mModuleNotFoundError\u001b[0m                       Traceback (most recent call last)",
            "\u001b[1;32mz:\\IA\\TP2\\TP_regression_sujet_étudiant_IA_L3_sujet.ipynb Cell 5\u001b[0m line \u001b[0;36m1\n\u001b[1;32m----> <a href='vscode-notebook-cell:/z%3A/IA/TP2/TP_regression_sujet_%C3%A9tudiant_IA_L3_sujet.ipynb#W4sZmlsZQ%3D%3D?line=0'>1</a>\u001b[0m \u001b[39mfrom\u001b[39;00m \u001b[39mgoogle\u001b[39;00m\u001b[39m.\u001b[39;00m\u001b[39mcolab\u001b[39;00m \u001b[39mimport\u001b[39;00m files\n\u001b[0;32m      <a href='vscode-notebook-cell:/z%3A/IA/TP2/TP_regression_sujet_%C3%A9tudiant_IA_L3_sujet.ipynb#W4sZmlsZQ%3D%3D?line=1'>2</a>\u001b[0m data_to_load \u001b[39m=\u001b[39m files\u001b[39m.\u001b[39mupload()\n",
            "\u001b[1;31mModuleNotFoundError\u001b[0m: No module named 'google'"
          ]
        }
      ],
      "source": [
        "from google.colab import files\n",
        "data_to_load = files.upload()"
      ]
    },
    {
      "cell_type": "code",
      "execution_count": null,
      "metadata": {
        "id": "n-YOthQSkdXq",
        "scrolled": true
      },
      "outputs": [
        {
          "data": {
            "image/png": "[encoded data removed]",
            "text/plain": [
              "<Figure size 700x500 with 1 Axes>"
            ]
          },
          "metadata": {},
          "output_type": "display_data"
        }
      ],
      "source": [
        "# Preprocessing Input data\n",
        "data = pd.read_csv('data.csv')\n",
        "X = data.iloc[:, 0]\n",
        "Y = data.iloc[:, 1]\n",
        "plt.scatter(X, Y)\n",
        "plt.xlabel(\"X-Axis\")\n",
        "plt.ylabel(\"Y-Axis\")\n",
        "plt.show()"
      ]
    },
    {
      "cell_type": "code",
      "execution_count": null,
      "metadata": {},
      "outputs": [],
      "source": [
        "X1=pd.DataFrame(X)"
      ]
    },
    {
      "cell_type": "code",
      "execution_count": null,
      "metadata": {
        "id": "rmsuLBoTkdXs",
        "outputId": "4a8ac057-61fd-44f0-a671-44b6e6468f40"
      },
      "outputs": [
        {
          "data": {
            "text/html": [
              "<div>\n",
              "<style scoped>\n",
              "    .dataframe tbody tr th:only-of-type {\n",
              "        vertical-align: middle;\n",
              "    }\n",
              "\n",
              "    .dataframe tbody tr th {\n",
              "        vertical-align: top;\n",
              "    }\n",
              "\n",
              "    .dataframe thead th {\n",
              "        text-align: right;\n",
              "    }\n",
              "</style>\n",
              "<table border=\"1\" class=\"dataframe\">\n",
              "  <thead>\n",
              "    <tr style=\"text-align: right;\">\n",
              "      <th></th>\n",
              "      <th>X</th>\n",
              "      <th>Y</th>\n",
              "    </tr>\n",
              "  </thead>\n",
              "  <tbody>\n",
              "    <tr>\n",
              "      <th>0</th>\n",
              "      <td>53.426804</td>\n",
              "      <td>68.777596</td>\n",
              "    </tr>\n",
              "    <tr>\n",
              "      <th>1</th>\n",
              "      <td>61.530358</td>\n",
              "      <td>62.562382</td>\n",
              "    </tr>\n",
              "    <tr>\n",
              "      <th>2</th>\n",
              "      <td>47.475640</td>\n",
              "      <td>71.546632</td>\n",
              "    </tr>\n",
              "    <tr>\n",
              "      <th>3</th>\n",
              "      <td>59.813208</td>\n",
              "      <td>87.230925</td>\n",
              "    </tr>\n",
              "    <tr>\n",
              "      <th>4</th>\n",
              "      <td>55.142188</td>\n",
              "      <td>78.211518</td>\n",
              "    </tr>\n",
              "  </tbody>\n",
              "</table>\n",
              "</div>"
            ],
            "text/plain": [
              "           X          Y\n",
              "0  53.426804  68.777596\n",
              "1  61.530358  62.562382\n",
              "2  47.475640  71.546632\n",
              "3  59.813208  87.230925\n",
              "4  55.142188  78.211518"
            ]
          },
          "execution_count": 37,
          "metadata": {},
          "output_type": "execute_result"
        }
      ],
      "source": [
        "data.head()"
      ]
    },
    {
      "cell_type": "markdown",
      "metadata": {
        "id": "arVcLBvIkdXr"
      },
      "source": [
        "à vous\n",
        "<br>\n",
        "\n",
        "Implémenter le modèle de façon itérative pour trouver le coefficient a et l'intercept b. Vous devez obtenir a = 1.28 et b= 9.90"
      ]
    },
    {
      "cell_type": "markdown",
      "metadata": {
        "id": "-sOCMELVkdXu"
      },
      "source": [
        "Afficher sur un même graphique les données sur l axe des X/Y ainsi que la droite de régression obtenue. Vous devez obtenir le graphique suivant\n",
        "![image.png](data:image/png;base64,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)"
      ]
    },
    {
      "cell_type": "markdown",
      "metadata": {
        "id": "CSgsrH6OPiyo"
      },
      "source": [
        "En exécutant le code suivant, donner la MSE de vôtre modèle pour le dataset d'entraînement."
      ]
    },
    {
      "cell_type": "code",
      "execution_count": null,
      "metadata": {
        "id": "xGl7oi6OkdXv"
      },
      "outputs": [
        {
          "name": "stdout",
          "output_type": "stream",
          "text": [
            "MSE:  107.47043700950907\n",
            "RMSE:  10.366794924638429\n"
          ]
        }
      ],
      "source": [
        "from sklearn.metrics import mean_squared_error\n",
        "\n",
        "mse = mean_squared_error(Y, Y_pred)\n",
        "print(\"MSE: \", mse)\n",
        "rmse = mse**0.5\n",
        "print(\"RMSE: \", rmse)\n"
      ]
    },
    {
      "cell_type": "markdown",
      "metadata": {
        "id": "XpEmIEOIPpS7"
      },
      "source": []
    },
    {
      "cell_type": "markdown",
      "metadata": {
        "id": "ZF3MM3O0P4Am"
      },
      "source": [
        "Affichez également la RMSE pour le dataset d'entraînement"
      ]
    },
    {
      "cell_type": "markdown",
      "metadata": {
        "id": "_I0BMQT2kdXy"
      },
      "source": [
        "# Régression linéaire en 6 lines de Python"
      ]
    },
    {
      "cell_type": "markdown",
      "metadata": {
        "id": "WwBqHyCrkdXy"
      },
      "source": [
        "   Il est possible de réaliser une régression linéaire avec de nombreuses\n",
        "librairies Python. Une des librairies les plus utilisées est Sklearn."
      ]
    },
    {
      "cell_type": "code",
      "execution_count": null,
      "metadata": {
        "id": "x6y5U_VBkdXy"
      },
      "outputs": [],
      "source": [
        "import numpy as np\n",
        "import matplotlib.pyplot as plt\n",
        "import pandas as pd\n",
        "from sklearn.linear_model import LinearRegression"
      ]
    },
    {
      "cell_type": "markdown",
      "metadata": {
        "id": "3saBUTvAkdXy"
      },
      "source": [
        "Après avoir chargé les données, il faut convertir les données en liste (array) grâce à la lib Numpy"
      ]
    },
    {
      "cell_type": "code",
      "execution_count": null,
      "metadata": {
        "id": "_HlFtZrekdXz"
      },
      "outputs": [],
      "source": [
        "data = pd.read_csv('data.csv')\n",
        "X = data.iloc[:, 0].values.reshape(-1, 1) # values converts it into a numpy array\n",
        "Y = data.iloc[:, 1].values.reshape(-1, 1) # -1 means that calculate the dimension of rows, but have 1 column\n",
        "linear_regressor = LinearRegression()\n",
        "linear_regressor.fit(X, Y)\n",
        "Y_pred = linear_regressor.predict(X)"
      ]
    },
    {
      "cell_type": "markdown",
      "metadata": {
        "id": "TS2PBbcUkdXz"
      },
      "source": [
        "À vous !\n",
        "Afficher le coefficient $a$ obtenu par la fonction LinearRegression()"
      ]
    },
    {
      "cell_type": "code",
      "execution_count": null,
      "metadata": {
        "id": "8KFvUgP1QG0W"
      },
      "outputs": [
        {
          "name": "stdout",
          "output_type": "stream",
          "text": [
            "a: 1.30049366970492\n"
          ]
        }
      ],
      "source": [
        "covXY = np.cov(X.flatten(), Y.flatten())[0, 1]  # Extract covariance value\n",
        "\n",
        "# Calculate variance of X\n",
        "varX = np.var(X)\n",
        "\n",
        "# Calculate slope 'a'\n",
        "a = covXY / varX\n",
        "\n",
        "print(\"a:\", a)"
      ]
    },
    {
      "cell_type": "markdown",
      "metadata": {
        "id": "nwjRBEWMkdXz"
      },
      "source": [
        "Affichez également la MSE et la RMSE en complétant le code ci-dessous. Votre RMSE doit être égale à ~10.36"
      ]
    },
    {
      "cell_type": "code",
      "execution_count": null,
      "metadata": {
        "id": "CmmGIZUtkdX0",
        "outputId": "a1d63edd-aeb4-4b2e-f5c0-7b0a31639325"
      },
      "outputs": [
        {
          "name": "stdout",
          "output_type": "stream",
          "text": [
            "107.47043700950907\n",
            "10.366794924638429\n"
          ]
        },
        {
          "data": {
            "text/plain": [
              "[<matplotlib.lines.Line2D at 0x1feabab8340>]"
            ]
          },
          "execution_count": 102,
          "metadata": {},
          "output_type": "execute_result"
        },
        {
          "data": {
            "image/png": "[encoded data removed]",
            "text/plain": [
              "<Figure size 700x500 with 1 Axes>"
            ]
          },
          "metadata": {},
          "output_type": "display_data"
        }
      ],
      "source": [
        "from sklearn.metrics import r2_score\n",
        "\n",
        "mse = mean_squared_error(Y, Y_pred)\n",
        "print(mse)\n",
        "rmse = mse**0.5\n",
        "print(rmse) \n",
        "score = 5\n",
        "\n",
        "plt.scatter(X, Y, color='blue', label='Données')\n",
        "plt.plot(X, Y_pred, color = 'red')\n",
        "\n"
      ]
    },
    {
      "cell_type": "markdown",
      "metadata": {
        "id": "po2jmmBFkdX0"
      },
      "source": [
        "Afficher sur un même graphique les données sur l axe des X/Y ainsi que la droite de régression obtenue. Vous devez obrenir le graph suivant"
      ]
    },
    {
      "cell_type": "markdown",
      "metadata": {
        "id": "ZpH8qe04kdX1"
      },
      "source": [
        "# La fonction OLS"
      ]
    },
    {
      "cell_type": "markdown",
      "metadata": {
        "id": "viS7r3zQkdX1"
      },
      "source": [
        "La régression linéaire LinearRegression() fait référence à la relation LINÉAIRE entre une ou plusieurs\n",
        "variables. La fonction LinearRegression() vous permet d'utiliser d'autres méthodes que celle des moindres carrés (que nous ne verrons pas dans ce cours). La fonction OLS (Ordinary Least Square) au contraire, impose la méthode des\n",
        "moindres carré. Utiliser la fonction LinearRegression()\n",
        "la méthode des moindres carrés vous donne des résultats similaire à la fonction OLS() mais cette dernière vous permet d'avoir davantage d'informations.\n",
        "\n",
        "\n",
        "\n",
        "Afficher le résultat du modèle avec la fonction summary()\n",
        "\n",
        "La syntaxe pour utiliser la fonction summary() est\n",
        "\n",
        "model_fit.summary()"
      ]
    },
    {
      "cell_type": "code",
      "execution_count": null,
      "metadata": {
        "id": "sJM1CWyTkdX1",
        "outputId": "662ab916-a40b-4444-b031-5d84dec39fa5"
      },
      "outputs": [
        {
          "data": {
            "text/html": [
              "<table class=\"simpletable\">\n",
              "<caption>OLS Regression Results</caption>\n",
              "<tr>\n",
              "  <th>Dep. Variable:</th>            <td>Y</td>        <th>  R-squared:         </th> <td>   0.587</td>\n",
              "</tr>\n",
              "<tr>\n",
              "  <th>Model:</th>                   <td>OLS</td>       <th>  Adj. R-squared:    </th> <td>   0.583</td>\n",
              "</tr>\n",
              "<tr>\n",
              "  <th>Method:</th>             <td>Least Squares</td>  <th>  F-statistic:       </th> <td>   138.0</td>\n",
              "</tr>\n",
              "<tr>\n",
              "  <th>Date:</th>             <td>Mon, 10 Mar 2025</td> <th>  Prob (F-statistic):</th> <td>2.43e-20</td>\n",
              "</tr>\n",
              "<tr>\n",
              "  <th>Time:</th>                 <td>18:59:14</td>     <th>  Log-Likelihood:    </th> <td> -372.00</td>\n",
              "</tr>\n",
              "<tr>\n",
              "  <th>No. Observations:</th>      <td>    99</td>      <th>  AIC:               </th> <td>   748.0</td>\n",
              "</tr>\n",
              "<tr>\n",
              "  <th>Df Residuals:</th>          <td>    97</td>      <th>  BIC:               </th> <td>   753.2</td>\n",
              "</tr>\n",
              "<tr>\n",
              "  <th>Df Model:</th>              <td>     1</td>      <th>                     </th>     <td> </td>   \n",
              "</tr>\n",
              "<tr>\n",
              "  <th>Covariance Type:</th>      <td>nonrobust</td>    <th>                     </th>     <td> </td>   \n",
              "</tr>\n",
              "</table>\n",
              "<table class=\"simpletable\">\n",
              "<tr>\n",
              "    <td></td>       <th>coef</th>     <th>std err</th>      <th>t</th>      <th>P>|t|</th>  <th>[0.025</th>    <th>0.975]</th>  \n",
              "</tr>\n",
              "<tr>\n",
              "  <th>const</th> <td>    9.9086</td> <td>    5.486</td> <td>    1.806</td> <td> 0.074</td> <td>   -0.980</td> <td>   20.797</td>\n",
              "</tr>\n",
              "<tr>\n",
              "  <th>X</th>     <td>    1.2874</td> <td>    0.110</td> <td>   11.746</td> <td> 0.000</td> <td>    1.070</td> <td>    1.505</td>\n",
              "</tr>\n",
              "</table>\n",
              "<table class=\"simpletable\">\n",
              "<tr>\n",
              "  <th>Omnibus:</th>       <td> 0.774</td> <th>  Durbin-Watson:     </th> <td>   2.206</td>\n",
              "</tr>\n",
              "<tr>\n",
              "  <th>Prob(Omnibus):</th> <td> 0.679</td> <th>  Jarque-Bera (JB):  </th> <td>   0.895</td>\n",
              "</tr>\n",
              "<tr>\n",
              "  <th>Skew:</th>          <td> 0.179</td> <th>  Prob(JB):          </th> <td>   0.639</td>\n",
              "</tr>\n",
              "<tr>\n",
              "  <th>Kurtosis:</th>      <td> 2.703</td> <th>  Cond. No.          </th> <td>    261.</td>\n",
              "</tr>\n",
              "</table><br/><br/>Notes:<br/>[1] Standard Errors assume that the covariance matrix of the errors is correctly specified."
            ],
            "text/latex": [
              "\\begin{center}\n",
              "\\begin{tabular}{lclc}\n",
              "\\toprule\n",
              "\\textbf{Dep. Variable:}    &        Y         & \\textbf{  R-squared:         } &     0.587   \\\\\n",
              "\\textbf{Model:}            &       OLS        & \\textbf{  Adj. R-squared:    } &     0.583   \\\\\n",
              "\\textbf{Method:}           &  Least Squares   & \\textbf{  F-statistic:       } &     138.0   \\\\\n",
              "\\textbf{Date:}             & Mon, 10 Mar 2025 & \\textbf{  Prob (F-statistic):} &  2.43e-20   \\\\\n",
              "\\textbf{Time:}             &     18:59:14     & \\textbf{  Log-Likelihood:    } &   -372.00   \\\\\n",
              "\\textbf{No. Observations:} &          99      & \\textbf{  AIC:               } &     748.0   \\\\\n",
              "\\textbf{Df Residuals:}     &          97      & \\textbf{  BIC:               } &     753.2   \\\\\n",
              "\\textbf{Df Model:}         &           1      & \\textbf{                     } &             \\\\\n",
              "\\textbf{Covariance Type:}  &    nonrobust     & \\textbf{                     } &             \\\\\n",
              "\\bottomrule\n",
              "\\end{tabular}\n",
              "\\begin{tabular}{lcccccc}\n",
              "               & \\textbf{coef} & \\textbf{std err} & \\textbf{t} & \\textbf{P$> |$t$|$} & \\textbf{[0.025} & \\textbf{0.975]}  \\\\\n",
              "\\midrule\n",
              "\\textbf{const} &       9.9086  &        5.486     &     1.806  &         0.074        &       -0.980    &       20.797     \\\\\n",
              "\\textbf{X}     &       1.2874  &        0.110     &    11.746  &         0.000        &        1.070    &        1.505     \\\\\n",
              "\\bottomrule\n",
              "\\end{tabular}\n",
              "\\begin{tabular}{lclc}\n",
              "\\textbf{Omnibus:}       &  0.774 & \\textbf{  Durbin-Watson:     } &    2.206  \\\\\n",
              "\\textbf{Prob(Omnibus):} &  0.679 & \\textbf{  Jarque-Bera (JB):  } &    0.895  \\\\\n",
              "\\textbf{Skew:}          &  0.179 & \\textbf{  Prob(JB):          } &    0.639  \\\\\n",
              "\\textbf{Kurtosis:}      &  2.703 & \\textbf{  Cond. No.          } &     261.  \\\\\n",
              "\\bottomrule\n",
              "\\end{tabular}\n",
              "%\\caption{OLS Regression Results}\n",
              "\\end{center}\n",
              "\n",
              "Notes: \\newline\n",
              " [1] Standard Errors assume that the covariance matrix of the errors is correctly specified."
            ],
            "text/plain": [
              "<class 'statsmodels.iolib.summary.Summary'>\n",
              "\"\"\"\n",
              "                            OLS Regression Results                            \n",
              "==============================================================================\n",
              "Dep. Variable:                      Y   R-squared:                       0.587\n",
              "Model:                            OLS   Adj. R-squared:                  0.583\n",
              "Method:                 Least Squares   F-statistic:                     138.0\n",
              "Date:                Mon, 10 Mar 2025   Prob (F-statistic):           2.43e-20\n",
              "Time:                        18:59:14   Log-Likelihood:                -372.00\n",
              "No. Observations:                  99   AIC:                             748.0\n",
              "Df Residuals:                      97   BIC:                             753.2\n",
              "Df Model:                           1                                         \n",
              "Covariance Type:            nonrobust                                         \n",
              "==============================================================================\n",
              "                 coef    std err          t      P>|t|      [0.025      0.975]\n",
              "------------------------------------------------------------------------------\n",
              "const          9.9086      5.486      1.806      0.074      -0.980      20.797\n",
              "X              1.2874      0.110     11.746      0.000       1.070       1.505\n",
              "==============================================================================\n",
              "Omnibus:                        0.774   Durbin-Watson:                   2.206\n",
              "Prob(Omnibus):                  0.679   Jarque-Bera (JB):                0.895\n",
              "Skew:                           0.179   Prob(JB):                        0.639\n",
              "Kurtosis:                       2.703   Cond. No.                         261.\n",
              "==============================================================================\n",
              "\n",
              "Notes:\n",
              "[1] Standard Errors assume that the covariance matrix of the errors is correctly specified.\n",
              "\"\"\""
            ]
          },
          "execution_count": 100,
          "metadata": {},
          "output_type": "execute_result"
        }
      ],
      "source": [
        "import statsmodels.api as sm\n",
        "X_OLS = sm.add_constant(X)\n",
        "\n",
        "model = sm.OLS(endog=Y, exog=X_OLS)\n",
        "model_fit = model.fit()\n",
        "model_fit.summary()\n"
      ]
    },
    {
      "cell_type": "markdown",
      "metadata": {
        "id": "4mti4aEXkdX3"
      },
      "source": [
        "# Régression polynomiale\n",
        "La régression linéaire univariée (une variable dépendante) et multivariée (plus d'une variable dépendante) dont nous avons parlé jusqu'à présent suppose toujours une relation linéaire entre les variables indépendantes et dépendantes. Dans le monde réel, il est très fréquent de disposer de données pour lesquelles il existe une relation non linéaire entre les variables indépendantes et dépendantes. Dans ce cas, nous pouvons utiliser la régression polynomiale en supposant que la relation entre la variable indépendante x et la (les) variable(s) dépendante(s) y est modélisée par un polynôme de nième degré en x."
      ]
    },
    {
      "cell_type": "code",
      "execution_count": 122,
      "metadata": {
        "id": "C87PSMTGkdX3",
        "outputId": "6df8b864-eead-4b11-cb78-41d0019f1642",
        "scrolled": true
      },
      "outputs": [
        {
          "ename": "ValueError",
          "evalue": "Found input variables with inconsistent numbers of samples: [99, 100]",
          "output_type": "error",
          "traceback": [
            "\u001b[1;31m---------------------------------------------------------------------------\u001b[0m",
            "\u001b[1;31mValueError\u001b[0m                                Traceback (most recent call last)",
            "\u001b[1;32mz:\\IA\\TP2\\TP_regression_sujet_étudiant_IA_L3_sujet.ipynb Cell 29\u001b[0m line \u001b[0;36m6\n\u001b[0;32m      <a href='vscode-notebook-cell:/z%3A/IA/TP2/TP_regression_sujet_%C3%A9tudiant_IA_L3_sujet.ipynb#X36sZmlsZQ%3D%3D?line=3'>4</a>\u001b[0m pr\u001b[39m.\u001b[39mfit(X_poly, Y)\n\u001b[0;32m      <a href='vscode-notebook-cell:/z%3A/IA/TP2/TP_regression_sujet_%C3%A9tudiant_IA_L3_sujet.ipynb#X36sZmlsZQ%3D%3D?line=4'>5</a>\u001b[0m lin_reg \u001b[39m=\u001b[39m LinearRegression()\n\u001b[1;32m----> <a href='vscode-notebook-cell:/z%3A/IA/TP2/TP_regression_sujet_%C3%A9tudiant_IA_L3_sujet.ipynb#X36sZmlsZQ%3D%3D?line=5'>6</a>\u001b[0m lin_reg\u001b[39m.\u001b[39;49mfit(X_poly, Y)\n\u001b[0;32m      <a href='vscode-notebook-cell:/z%3A/IA/TP2/TP_regression_sujet_%C3%A9tudiant_IA_L3_sujet.ipynb#X36sZmlsZQ%3D%3D?line=6'>7</a>\u001b[0m plt\u001b[39m.\u001b[39mscatter(X, Y)\n\u001b[0;32m      <a href='vscode-notebook-cell:/z%3A/IA/TP2/TP_regression_sujet_%C3%A9tudiant_IA_L3_sujet.ipynb#X36sZmlsZQ%3D%3D?line=7'>8</a>\u001b[0m plt\u001b[39m.\u001b[39mscatter(X, lin_reg\u001b[39m.\u001b[39mpredict(pr\u001b[39m.\u001b[39mfit_transform(X1)))\n",
            "File \u001b[1;32mc:\\Program Files\\Python310\\lib\\site-packages\\sklearn\\base.py:1389\u001b[0m, in \u001b[0;36m_fit_context.<locals>.decorator.<locals>.wrapper\u001b[1;34m(estimator, *args, **kwargs)\u001b[0m\n\u001b[0;32m   1382\u001b[0m     estimator\u001b[39m.\u001b[39m_validate_params()\n\u001b[0;32m   1384\u001b[0m \u001b[39mwith\u001b[39;00m config_context(\n\u001b[0;32m   1385\u001b[0m     skip_parameter_validation\u001b[39m=\u001b[39m(\n\u001b[0;32m   1386\u001b[0m         prefer_skip_nested_validation \u001b[39mor\u001b[39;00m global_skip_validation\n\u001b[0;32m   1387\u001b[0m     )\n\u001b[0;32m   1388\u001b[0m ):\n\u001b[1;32m-> 1389\u001b[0m     \u001b[39mreturn\u001b[39;00m fit_method(estimator, \u001b[39m*\u001b[39margs, \u001b[39m*\u001b[39m\u001b[39m*\u001b[39mkwargs)\n",
            "File \u001b[1;32mc:\\Program Files\\Python310\\lib\\site-packages\\sklearn\\linear_model\\_base.py:601\u001b[0m, in \u001b[0;36mLinearRegression.fit\u001b[1;34m(self, X, y, sample_weight)\u001b[0m\n\u001b[0;32m    597\u001b[0m n_jobs_ \u001b[39m=\u001b[39m \u001b[39mself\u001b[39m\u001b[39m.\u001b[39mn_jobs\n\u001b[0;32m    599\u001b[0m accept_sparse \u001b[39m=\u001b[39m \u001b[39mFalse\u001b[39;00m \u001b[39mif\u001b[39;00m \u001b[39mself\u001b[39m\u001b[39m.\u001b[39mpositive \u001b[39melse\u001b[39;00m [\u001b[39m\"\u001b[39m\u001b[39mcsr\u001b[39m\u001b[39m\"\u001b[39m, \u001b[39m\"\u001b[39m\u001b[39mcsc\u001b[39m\u001b[39m\"\u001b[39m, \u001b[39m\"\u001b[39m\u001b[39mcoo\u001b[39m\u001b[39m\"\u001b[39m]\n\u001b[1;32m--> 601\u001b[0m X, y \u001b[39m=\u001b[39m validate_data(\n\u001b[0;32m    602\u001b[0m     \u001b[39mself\u001b[39;49m,\n\u001b[0;32m    603\u001b[0m     X,\n\u001b[0;32m    604\u001b[0m     y,\n\u001b[0;32m    605\u001b[0m     accept_sparse\u001b[39m=\u001b[39;49maccept_sparse,\n\u001b[0;32m    606\u001b[0m     y_numeric\u001b[39m=\u001b[39;49m\u001b[39mTrue\u001b[39;49;00m,\n\u001b[0;32m    607\u001b[0m     multi_output\u001b[39m=\u001b[39;49m\u001b[39mTrue\u001b[39;49;00m,\n\u001b[0;32m    608\u001b[0m     force_writeable\u001b[39m=\u001b[39;49m\u001b[39mTrue\u001b[39;49;00m,\n\u001b[0;32m    609\u001b[0m )\n\u001b[0;32m    611\u001b[0m has_sw \u001b[39m=\u001b[39m sample_weight \u001b[39mis\u001b[39;00m \u001b[39mnot\u001b[39;00m \u001b[39mNone\u001b[39;00m\n\u001b[0;32m    612\u001b[0m \u001b[39mif\u001b[39;00m has_sw:\n",
            "File \u001b[1;32mc:\\Program Files\\Python310\\lib\\site-packages\\sklearn\\utils\\validation.py:2961\u001b[0m, in \u001b[0;36mvalidate_data\u001b[1;34m(_estimator, X, y, reset, validate_separately, skip_check_array, **check_params)\u001b[0m\n\u001b[0;32m   2959\u001b[0m         y \u001b[39m=\u001b[39m check_array(y, input_name\u001b[39m=\u001b[39m\u001b[39m\"\u001b[39m\u001b[39my\u001b[39m\u001b[39m\"\u001b[39m, \u001b[39m*\u001b[39m\u001b[39m*\u001b[39mcheck_y_params)\n\u001b[0;32m   2960\u001b[0m     \u001b[39melse\u001b[39;00m:\n\u001b[1;32m-> 2961\u001b[0m         X, y \u001b[39m=\u001b[39m check_X_y(X, y, \u001b[39m*\u001b[39m\u001b[39m*\u001b[39mcheck_params)\n\u001b[0;32m   2962\u001b[0m     out \u001b[39m=\u001b[39m X, y\n\u001b[0;32m   2964\u001b[0m \u001b[39mif\u001b[39;00m \u001b[39mnot\u001b[39;00m no_val_X \u001b[39mand\u001b[39;00m check_params\u001b[39m.\u001b[39mget(\u001b[39m\"\u001b[39m\u001b[39mensure_2d\u001b[39m\u001b[39m\"\u001b[39m, \u001b[39mTrue\u001b[39;00m):\n",
            "File \u001b[1;32mc:\\Program Files\\Python310\\lib\\site-packages\\sklearn\\utils\\validation.py:1389\u001b[0m, in \u001b[0;36mcheck_X_y\u001b[1;34m(X, y, accept_sparse, accept_large_sparse, dtype, order, copy, force_writeable, force_all_finite, ensure_all_finite, ensure_2d, allow_nd, multi_output, ensure_min_samples, ensure_min_features, y_numeric, estimator)\u001b[0m\n\u001b[0;32m   1370\u001b[0m X \u001b[39m=\u001b[39m check_array(\n\u001b[0;32m   1371\u001b[0m     X,\n\u001b[0;32m   1372\u001b[0m     accept_sparse\u001b[39m=\u001b[39maccept_sparse,\n\u001b[1;32m   (...)\u001b[0m\n\u001b[0;32m   1384\u001b[0m     input_name\u001b[39m=\u001b[39m\u001b[39m\"\u001b[39m\u001b[39mX\u001b[39m\u001b[39m\"\u001b[39m,\n\u001b[0;32m   1385\u001b[0m )\n\u001b[0;32m   1387\u001b[0m y \u001b[39m=\u001b[39m _check_y(y, multi_output\u001b[39m=\u001b[39mmulti_output, y_numeric\u001b[39m=\u001b[39my_numeric, estimator\u001b[39m=\u001b[39mestimator)\n\u001b[1;32m-> 1389\u001b[0m check_consistent_length(X, y)\n\u001b[0;32m   1391\u001b[0m \u001b[39mreturn\u001b[39;00m X, y\n",
            "File \u001b[1;32mc:\\Program Files\\Python310\\lib\\site-packages\\sklearn\\utils\\validation.py:475\u001b[0m, in \u001b[0;36mcheck_consistent_length\u001b[1;34m(*arrays)\u001b[0m\n\u001b[0;32m    473\u001b[0m uniques \u001b[39m=\u001b[39m np\u001b[39m.\u001b[39munique(lengths)\n\u001b[0;32m    474\u001b[0m \u001b[39mif\u001b[39;00m \u001b[39mlen\u001b[39m(uniques) \u001b[39m>\u001b[39m \u001b[39m1\u001b[39m:\n\u001b[1;32m--> 475\u001b[0m     \u001b[39mraise\u001b[39;00m \u001b[39mValueError\u001b[39;00m(\n\u001b[0;32m    476\u001b[0m         \u001b[39m\"\u001b[39m\u001b[39mFound input variables with inconsistent numbers of samples: \u001b[39m\u001b[39m%r\u001b[39;00m\u001b[39m\"\u001b[39m\n\u001b[0;32m    477\u001b[0m         \u001b[39m%\u001b[39m [\u001b[39mint\u001b[39m(l) \u001b[39mfor\u001b[39;00m l \u001b[39min\u001b[39;00m lengths]\n\u001b[0;32m    478\u001b[0m     )\n",
            "\u001b[1;31mValueError\u001b[0m: Found input variables with inconsistent numbers of samples: [99, 100]"
          ]
        }
      ],
      "source": [
        "from sklearn.preprocessing import PolynomialFeatures\n",
        "pr = PolynomialFeatures(degree = 2)\n",
        "X_poly = pr.fit_transform(X1)\n",
        "pr.fit(X_poly, Y)\n",
        "lin_reg = LinearRegression()\n",
        "lin_reg.fit(X_poly, Y)\n",
        "plt.scatter(X, Y)\n",
        "plt.scatter(X, lin_reg.predict(pr.fit_transform(X1)))\n",
        "plt.show()\n",
        "\n",
        "print(lin_reg.coef_)\n",
        "print(lin_reg.intercept_)\n",
        "\n",
        "\n",
        "\n"
      ]
    },
    {
      "cell_type": "markdown",
      "metadata": {
        "id": "FMG1pQ8sbH8j"
      },
      "source": [
        "Donner l'équation du modèle"
      ]
    },
    {
      "cell_type": "markdown",
      "metadata": {},
      "source": [
        "Y = 45.32 -0.21464768X + 0.01531708X²"
      ]
    },
    {
      "cell_type": "markdown",
      "metadata": {
        "id": "4fR796PCkdX3"
      },
      "source": [
        "# Données d'entraînement (train) et de test"
      ]
    },
    {
      "cell_type": "markdown",
      "metadata": {
        "id": "S4yaFMd7kdX3"
      },
      "source": [
        "Pour construire un bon modèle, nous devons d'abord diviser notre ensemble\n",
        "de données en un ensemble d'entraînement (ou données d'apprentissage) et un ensemble de test. Nous\n",
        "utiliserons notre ensemble d'entraînement pour former notre modèle,\n",
        "et nous utiliserons notre ensemble de test pour la validation du modèle.\n",
        "Pour ce faire, nous allons utiliser la fonction train_test_split de\n",
        "sklearn, et définir le paramètre d'entrée test_size à .2 afin que 20\\%\n",
        "des données soient assignées à l'ensemble de test et 80\\% des données\n",
        "soient assignées à l'ensemble d'entraînement.\n",
        "\n",
        "**Nous mettons de côté l'ensemble de test et ne le regardons qu'à la fin\n",
        "pour évaluer les performances du modèle sur des données non vues.\n",
        "\n",
        "Nous faisons cela afin de nous assurer que nous ne testons pas ce que le\n",
        "modèle a déjà appris. De cette façon, nous ne nous contentons pas de\n",
        "résoudre les données que nous connaissons et nous pouvons vérifier si notre\n",
        "modèle est applicable lorsque nous ne connaissons pas les valeurs de\n",
        "sortie. Par conséquent, nous pouvons également vérifier si le modèle n'est pas en overfitting.\n",
        "\n",
        "Nous fixons l'initialisation aléatoire de sorte que chaque fois que nous exécutons\n",
        "le code train_test_split, nous obtenons la même distribution de\n",
        "données. Ceci est important car le fait de garder la répartition des\n",
        "données constante nous permet de comparer les résultats de différentes\n",
        "sessions."
      ]
    },
    {
      "cell_type": "code",
      "execution_count": 124,
      "metadata": {
        "id": "oy0x1tUZkdX4",
        "outputId": "7ad8c6e5-e229-4cd3-8d27-ce621c54c93f"
      },
      "outputs": [
        {
          "data": {
            "text/plain": [
              "70"
            ]
          },
          "execution_count": 124,
          "metadata": {},
          "output_type": "execute_result"
        }
      ],
      "source": [
        "from sklearn.model_selection import train_test_split\n",
        "\n",
        "X_train, X_test, Y_train, Y_test = train_test_split(X, Y,test_size=0.3,random_state=42)\n",
        "\n",
        "X_train.size"
      ]
    },
    {
      "cell_type": "markdown",
      "metadata": {
        "id": "aEr2JbSQkdX4"
      },
      "source": [
        "À vous\n",
        "\n",
        "Appliquer linear_regressor.fit() et LinearRegression() en polynomiale à votre trainset. Afficher la MSE, le R2 et la RMSE pour les données de test pour chaque modèle."
      ]
    },
    {
      "cell_type": "code",
      "execution_count": 125,
      "metadata": {
        "id": "qFt3pO_FQbY-"
      },
      "outputs": [
        {
          "ename": "TypeError",
          "evalue": "LinearRegression.fit() missing 1 required positional argument: 'y'",
          "output_type": "error",
          "traceback": [
            "\u001b[1;31m---------------------------------------------------------------------------\u001b[0m",
            "\u001b[1;31mTypeError\u001b[0m                                 Traceback (most recent call last)",
            "\u001b[1;32mz:\\IA\\TP2\\TP_regression_sujet_étudiant_IA_L3_sujet.ipynb Cell 36\u001b[0m line \u001b[0;36m1\n\u001b[1;32m----> <a href='vscode-notebook-cell:/z%3A/IA/TP2/TP_regression_sujet_%C3%A9tudiant_IA_L3_sujet.ipynb#X45sZmlsZQ%3D%3D?line=0'>1</a>\u001b[0m linear_regressor\u001b[39m.\u001b[39;49mfit(X_train)\n",
            "File \u001b[1;32mc:\\Program Files\\Python310\\lib\\site-packages\\sklearn\\base.py:1389\u001b[0m, in \u001b[0;36m_fit_context.<locals>.decorator.<locals>.wrapper\u001b[1;34m(estimator, *args, **kwargs)\u001b[0m\n\u001b[0;32m   1382\u001b[0m     estimator\u001b[39m.\u001b[39m_validate_params()\n\u001b[0;32m   1384\u001b[0m \u001b[39mwith\u001b[39;00m config_context(\n\u001b[0;32m   1385\u001b[0m     skip_parameter_validation\u001b[39m=\u001b[39m(\n\u001b[0;32m   1386\u001b[0m         prefer_skip_nested_validation \u001b[39mor\u001b[39;00m global_skip_validation\n\u001b[0;32m   1387\u001b[0m     )\n\u001b[0;32m   1388\u001b[0m ):\n\u001b[1;32m-> 1389\u001b[0m     \u001b[39mreturn\u001b[39;00m fit_method(estimator, \u001b[39m*\u001b[39margs, \u001b[39m*\u001b[39m\u001b[39m*\u001b[39mkwargs)\n",
            "\u001b[1;31mTypeError\u001b[0m: LinearRegression.fit() missing 1 required positional argument: 'y'"
          ]
        }
      ],
      "source": [
        "linear_regressor.fit(X_train)"
      ]
    },
    {
      "cell_type": "markdown",
      "metadata": {
        "id": "6VPyUb3OQtWi"
      },
      "source": [
        "Comparer les deux modèles"
      ]
    }
  ],
  "metadata": {
    "colab": {
      "provenance": []
    },
    "kernelspec": {
      "display_name": "Python 3",
      "language": "python",
      "name": "python3"
    },
    "language_info": {
      "codemirror_mode": {
        "name": "ipython",
        "version": 3
      },
      "file_extension": ".py",
      "mimetype": "text/x-python",
      "name": "python",
      "nbconvert_exporter": "python",
      "pygments_lexer": "ipython3",
      "version": "3.10.4"
    }
  },
  "nbformat": 4,
  "nbformat_minor": 0
}
